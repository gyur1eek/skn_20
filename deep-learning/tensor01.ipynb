{
 "cells": [
  {
   "cell_type": "code",
   "execution_count": 1,
   "id": "2bcc37dc",
   "metadata": {},
   "outputs": [],
   "source": [
    "# Tensor\n",
    "# 데이터를 저장하는 다차원 배열 또는 컨테이너\n",
    "# 딥러닝이 학습할 떄 사용하는 자료구조\n",
    "# 0차원 텐서: 스칼라 25 - 단일 데이터\n",
    "# 1차원 텐서(벡터): 스칼라들의 집합- 리스트 형태 [1,2,3,4]\n",
    "# 2차원 텐서(행렬): 행과 열로 이루어진 데이터, 표데이터 , 흑백이미지(가로픽셀X세로픽셀)\n",
    "# 3차원 텐서 : 컬러이미지, 흑백이미지+ 채널정보(RGB)\n",
    "# 고차원 텐서: 동영상 : 가로픽셀 X 세로픽셀 x 채널정보 x 이미지갯수\n",
    "\n",
    "#데이터였던 표준 형식을 취함: 일관된 숫자 형식\n",
    "# 효율적인 계산 : GPU 지원 병열연산에 유리\n",
    "# 딥러닝 프레임워크 : 텐서플로, 파이토치"
   ]
  },
  {
   "cell_type": "code",
   "execution_count": 2,
   "id": "c01b9282",
   "metadata": {},
   "outputs": [
    {
     "name": "stderr",
     "output_type": "stream",
     "text": [
      "c:\\Users\\Playdata2\\miniconda3\\envs\\deep\\lib\\site-packages\\torch\\_subclasses\\functional_tensor.py:279: UserWarning: Failed to initialize NumPy: DLL load failed while importing _multiarray_umath: 지정된 모듈을 찾을 수 없습니다. (Triggered internally at C:\\actions-runner\\_work\\pytorch\\pytorch\\pytorch\\torch\\csrc\\utils\\tensor_numpy.cpp:84.)\n",
      "  cpu = _conversion_method_template(device=torch.device(\"cpu\"))\n"
     ]
    },
    {
     "data": {
      "text/plain": [
       "tensor([[-9.2261e-41,  1.3929e-42,  0.0000e+00,  0.0000e+00],\n",
       "        [ 0.0000e+00,  0.0000e+00,  0.0000e+00,  0.0000e+00],\n",
       "        [ 0.0000e+00,  0.0000e+00,  0.0000e+00,  0.0000e+00]])"
      ]
     },
     "execution_count": 2,
     "metadata": {},
     "output_type": "execute_result"
    }
   ],
   "source": [
    "#기본 연산\n",
    "import torch\n",
    "# 빈 텐서 생성\n",
    "x = torch.empty(3,4) # numpy array와 비슷\n",
    "x"
   ]
  },
  {
   "cell_type": "code",
   "execution_count": null,
   "id": "364c0a62",
   "metadata": {},
   "outputs": [],
   "source": [
    "# 랜덤 텐서\n",
    "x= torch.rand(3,4)\n",
    "x"
   ]
  },
  {
   "cell_type": "code",
   "execution_count": 3,
   "id": "d4cafddb",
   "metadata": {},
   "outputs": [
    {
     "data": {
      "text/plain": [
       "tensor([[0, 0, 0, 0],\n",
       "        [0, 0, 0, 0],\n",
       "        [0, 0, 0, 0]])"
      ]
     },
     "execution_count": 3,
     "metadata": {},
     "output_type": "execute_result"
    }
   ],
   "source": [
    "# 0으로 텐서 초기화\n",
    "torch.zeros(3,4,dtype=torch.long)"
   ]
  },
  {
   "cell_type": "markdown",
   "id": "0f4da4e4",
   "metadata": {},
   "source": []
  },
  {
   "cell_type": "code",
   "execution_count": 4,
   "id": "af21c93c",
   "metadata": {},
   "outputs": [
    {
     "data": {
      "text/plain": [
       "tensor([[1, 1, 1, 1],\n",
       "        [1, 1, 1, 1],\n",
       "        [1, 1, 1, 1]])"
      ]
     },
     "execution_count": 4,
     "metadata": {},
     "output_type": "execute_result"
    }
   ],
   "source": [
    "# 1로 채워진 텐서\n",
    "torch.ones(3,4,dtype=torch.long)"
   ]
  },
  {
   "cell_type": "code",
   "execution_count": 5,
   "id": "1ea55a39",
   "metadata": {},
   "outputs": [
    {
     "name": "stdout",
     "output_type": "stream",
     "text": [
      "[3.5 3.  2.1]\n",
      "tensor([3.5000, 3.0000, 2.1000])\n"
     ]
    }
   ],
   "source": [
    "import numpy as np\n",
    "print(np.array([3.5,3,2.1]))\n",
    "print(torch.tensor([3.5,3,2.1]))"
   ]
  },
  {
   "cell_type": "code",
   "execution_count": 6,
   "id": "e1783ae3",
   "metadata": {},
   "outputs": [
    {
     "data": {
      "text/plain": [
       "(tensor([[1., 1., 1., 1.],\n",
       "         [1., 1., 1., 1.],\n",
       "         [1., 1., 1., 1.]]),\n",
       " tensor([[ 1.3950,  0.1035, -0.0579,  0.0871],\n",
       "         [ 1.3337, -0.9343,  0.5064,  0.6121],\n",
       "         [ 0.2740,  0.9723, -2.3242,  1.5297]]))"
      ]
     },
     "execution_count": 6,
     "metadata": {},
     "output_type": "execute_result"
    }
   ],
   "source": [
    "# 기존의 텐서를 기반으로 새로운 텐서 생성\n",
    "x = torch.ones(3,4)\n",
    "y = torch.randn_like(x,dtype=torch.float) # 똑같이 복사\n",
    "x,y"
   ]
  },
  {
   "cell_type": "code",
   "execution_count": 7,
   "id": "ffd368f5",
   "metadata": {},
   "outputs": [
    {
     "data": {
      "text/plain": [
       "tensor([[1.3922, 1.5046, 0.4105, 1.6748],\n",
       "        [1.4184, 0.0743, 1.0077, 1.1316],\n",
       "        [1.0105, 1.3054, 0.7043, 1.1240]])"
      ]
     },
     "execution_count": 7,
     "metadata": {},
     "output_type": "execute_result"
    }
   ],
   "source": [
    "import torch \n",
    "x = torch.rand(3,4)\n",
    "y = torch.rand(3,4)\n",
    "x, y\n",
    "x+y"
   ]
  },
  {
   "cell_type": "code",
   "execution_count": 8,
   "id": "3210f26c",
   "metadata": {},
   "outputs": [
    {
     "data": {
      "text/plain": [
       "tensor([[1.3922, 1.5046, 0.4105, 1.6748],\n",
       "        [1.4184, 0.0743, 1.0077, 1.1316],\n",
       "        [1.0105, 1.3054, 0.7043, 1.1240]])"
      ]
     },
     "execution_count": 8,
     "metadata": {},
     "output_type": "execute_result"
    }
   ],
   "source": [
    "torch.add(x,y)\n"
   ]
  },
  {
   "cell_type": "code",
   "execution_count": 9,
   "id": "831b39b0",
   "metadata": {},
   "outputs": [
    {
     "data": {
      "text/plain": [
       "tensor([[1.3922, 1.5046, 0.4105, 1.6748],\n",
       "        [1.4184, 0.0743, 1.0077, 1.1316],\n",
       "        [1.0105, 1.3054, 0.7043, 1.1240]])"
      ]
     },
     "execution_count": 9,
     "metadata": {},
     "output_type": "execute_result"
    }
   ],
   "source": [
    "# im-place   y= y+x y+= x\n",
    "y.add_(x)"
   ]
  },
  {
   "cell_type": "code",
   "execution_count": 10,
   "id": "e89f7ca9",
   "metadata": {},
   "outputs": [
    {
     "data": {
      "text/plain": [
       "tensor([[1.3922, 1.5046, 0.4105, 1.6748],\n",
       "        [1.4184, 0.0743, 1.0077, 1.1316],\n",
       "        [1.0105, 1.3054, 0.7043, 1.1240]])"
      ]
     },
     "execution_count": 10,
     "metadata": {},
     "output_type": "execute_result"
    }
   ],
   "source": [
    "y"
   ]
  },
  {
   "cell_type": "code",
   "execution_count": 11,
   "id": "132f16ee",
   "metadata": {},
   "outputs": [
    {
     "data": {
      "text/plain": [
       "(tensor([[0.7047, 0.0339, 0.5557, 0.0943],\n",
       "         [0.4366, 0.7937, 0.2033, 0.0793],\n",
       "         [0.5671, 0.7021, 0.4198, 0.3035]]),\n",
       " tensor([[0.3342, 0.1216, 0.3987, 0.4465, 0.2730],\n",
       "         [0.9541, 0.2442, 0.9421, 0.1171, 0.1311],\n",
       "         [0.3581, 0.1256, 0.0661, 0.4539, 0.0458],\n",
       "         [0.3042, 0.5353, 0.3640, 0.0802, 0.3253]]),\n",
       " tensor([[0.4955, 0.2142, 0.3840, 0.5784, 0.2530],\n",
       "         [1.0002, 0.3149, 0.9642, 0.3865, 0.2584],\n",
       "         [1.1021, 0.4556, 1.0259, 0.5503, 0.3648]]),\n",
       " tensor([[0.4955, 0.2142, 0.3840, 0.5784, 0.2530],\n",
       "         [1.0002, 0.3149, 0.9642, 0.3865, 0.2584],\n",
       "         [1.1021, 0.4556, 1.0259, 0.5503, 0.3648]]))"
      ]
     },
     "execution_count": 11,
     "metadata": {},
     "output_type": "execute_result"
    }
   ],
   "source": [
    "# 행렬 곱셈\n",
    "x = torch.rand(3,4)\n",
    "y = torch.rand(4,5)\n",
    "x, y, torch.mm(x,y),x@y #파이썬 3.5 부터 x@y"
   ]
  },
  {
   "cell_type": "code",
   "execution_count": 12,
   "id": "7943a8c7",
   "metadata": {},
   "outputs": [],
   "source": [
    "# 행렬 곱셈 하려면 3 X2 2X4 가운데 열이 같아야함 3X4행렬이 나옴"
   ]
  },
  {
   "cell_type": "code",
   "execution_count": 13,
   "id": "35cb1e3d",
   "metadata": {},
   "outputs": [
    {
     "data": {
      "text/plain": [
       "(tensor(0.0588),\n",
       " 0.058823585510253906,\n",
       " tensor(0.0588),\n",
       " 0.058823585510253906,\n",
       " torch.Tensor,\n",
       " float)"
      ]
     },
     "execution_count": 13,
     "metadata": {},
     "output_type": "execute_result"
    }
   ],
   "source": [
    "# 슬라이싱 가능\n",
    "x = torch.rand(4,5)\n",
    "x[1,1], x[1,1].item(),x[1,1], x[1,1].item(), type(x[1,1]), type(x[1,1].item() )\n",
    " "
   ]
  },
  {
   "cell_type": "code",
   "execution_count": 14,
   "id": "03ebf870",
   "metadata": {},
   "outputs": [
    {
     "data": {
      "text/plain": [
       "(torch.Tensor, float)"
      ]
     },
     "execution_count": 14,
     "metadata": {},
     "output_type": "execute_result"
    }
   ],
   "source": [
    "type(x[1,1]), type(x[1,1].item())\n",
    "# 이거 차이로 에러가 날 수 있어서 중요한 역할"
   ]
  },
  {
   "cell_type": "code",
   "execution_count": 15,
   "id": "39ccdff7",
   "metadata": {},
   "outputs": [
    {
     "data": {
      "text/plain": [
       "(tensor([[0.2623, 0.4619, 0.1238, 0.5872],\n",
       "         [0.2506, 0.6735, 0.3456, 0.4082],\n",
       "         [0.0707, 0.7956, 0.4615, 0.8851],\n",
       "         [0.6350, 0.2825, 0.1537, 0.6870]]),\n",
       " tensor([0.2623, 0.4619, 0.1238, 0.5872, 0.2506, 0.6735, 0.3456, 0.4082, 0.0707,\n",
       "         0.7956, 0.4615, 0.8851, 0.6350, 0.2825, 0.1537, 0.6870]),\n",
       " torch.Size([4, 4]),\n",
       " torch.Size([16]))"
      ]
     },
     "execution_count": 15,
     "metadata": {},
     "output_type": "execute_result"
    }
   ],
   "source": [
    "# 텐서 크기 변경  reshape, view             numpy 동일한 기능 reshape\n",
    "x = torch.rand(4,4)\n",
    "y = x.view(16)\n",
    "y  = x.view(-1) # -1 자동계산\n",
    "x, y, x.shape, y.shape"
   ]
  },
  {
   "cell_type": "code",
   "execution_count": 16,
   "id": "dde12304",
   "metadata": {},
   "outputs": [
    {
     "data": {
      "text/plain": [
       "(tensor([[0.2623, 0.4619, 0.1238, 0.5872, 0.2506, 0.6735, 0.3456, 0.4082],\n",
       "         [0.0707, 0.7956, 0.4615, 0.8851, 0.6350, 0.2825, 0.1537, 0.6870]]),\n",
       " torch.Size([4, 4]))"
      ]
     },
     "execution_count": 16,
     "metadata": {},
     "output_type": "execute_result"
    }
   ],
   "source": [
    "# x =  4by 4\n",
    "# view : reshape #텐서 모양 변경\n",
    "# size: reshape #텐서 모양 확인\n",
    "# 가독성.... view size 사용되었다는 것은 해당 자료구조가 텐서라는것을 명시\n",
    "x.view(-1,8), x.size()\n",
    "#x.view(-1,-1) 오류남 오직 1개만 추론, 예측할 수 있고 고정할 수 있어서 "
   ]
  },
  {
   "cell_type": "code",
   "execution_count": 20,
   "id": "e41bd96a",
   "metadata": {},
   "outputs": [
    {
     "name": "stdout",
     "output_type": "stream",
     "text": [
      "3 channel Terms of Service accepted\n",
      "Channels:\n",
      " - defaults\n",
      "Platform: win-64\n",
      "Collecting package metadata (repodata.json): done\n",
      "Solving environment: done\n",
      "\n",
      "# All requested packages already installed.\n",
      "\n",
      "\n",
      "Note: you may need to restart the kernel to use updated packages.\n"
     ]
    }
   ],
   "source": [
    "%conda install numpy"
   ]
  },
  {
   "cell_type": "code",
   "execution_count": 23,
   "id": "830cf064",
   "metadata": {},
   "outputs": [
    {
     "name": "stdout",
     "output_type": "stream",
     "text": [
      "Requirement already satisfied: pip in c:\\users\\playdata2\\miniconda3\\envs\\deep\\lib\\site-packages (25.2)\n",
      "Requirement already satisfied: setuptools in c:\\users\\playdata2\\miniconda3\\envs\\deep\\lib\\site-packages (80.9.0)\n",
      "Requirement already satisfied: wheel in c:\\users\\playdata2\\miniconda3\\envs\\deep\\lib\\site-packages (0.45.1)\n",
      "Note: you may need to restart the kernel to use updated packages.\n",
      "Collecting numpy\n",
      "  Downloading numpy-2.2.6-cp310-cp310-win_amd64.whl.metadata (60 kB)\n",
      "Downloading numpy-2.2.6-cp310-cp310-win_amd64.whl (12.9 MB)\n",
      "   ---------------------------------------- 0.0/12.9 MB ? eta -:--:--\n",
      "   ---------------------------------------- 12.9/12.9 MB 116.0 MB/s  0:00:00\n",
      "Installing collected packages: numpy\n",
      "  Attempting uninstall: numpy\n",
      "    Found existing installation: numpy 1.26.4\n",
      "    Uninstalling numpy-1.26.4:\n",
      "      Successfully uninstalled numpy-1.26.4\n",
      "Successfully installed numpy-2.2.6\n",
      "Note: you may need to restart the kernel to use updated packages.\n"
     ]
    }
   ],
   "source": [
    "%pip install -U pip setuptools wheel\n",
    "%pip install --force-reinstall --no-cache-dir numpy\n"
   ]
  },
  {
   "cell_type": "code",
   "execution_count": 21,
   "id": "2dfc471c",
   "metadata": {},
   "outputs": [
    {
     "name": "stdout",
     "output_type": "stream",
     "text": [
      "Name: numpy\n",
      "Version: 1.26.4\n",
      "Summary: Fundamental package for array computing in Python\n",
      "Home-page: https://numpy.org\n",
      "Author: Travis E. Oliphant et al.\n",
      "Author-email: \n",
      "License: Copyright (c) 2005-2023, NumPy Developers.\n",
      "         All rights reserved.\n",
      "         \n",
      "         Redistribution and use in source and binary forms, with or without\n",
      "         modification, are permitted provided that the following conditions are\n",
      "         met:\n",
      "         \n",
      "             * Redistributions of source code must retain the above copyright\n",
      "                notice, this list of conditions and the following disclaimer.\n",
      "         \n",
      "             * Redistributions in binary form must reproduce the above\n",
      "                copyright notice, this list of conditions and the following\n",
      "                disclaimer in the documentation and/or other materials provided\n",
      "                with the distribution.\n",
      "         \n",
      "             * Neither the name of the NumPy Developers nor the names of any\n",
      "                contributors may be used to endorse or promote products derived\n",
      "                from this software without specific prior written permission.\n",
      "         \n",
      "         THIS SOFTWARE IS PROVIDED BY THE COPYRIGHT HOLDERS AND CONTRIBUTORS\n",
      "         \"AS IS\" AND ANY EXPRESS OR IMPLIED WARRANTIES, INCLUDING, BUT NOT\n",
      "         LIMITED TO, THE IMPLIED WARRANTIES OF MERCHANTABILITY AND FITNESS FOR\n",
      "         A PARTICULAR PURPOSE ARE DISCLAIMED. IN NO EVENT SHALL THE COPYRIGHT\n",
      "         OWNER OR CONTRIBUTORS BE LIABLE FOR ANY DIRECT, INDIRECT, INCIDENTAL,\n",
      "         SPECIAL, EXEMPLARY, OR CONSEQUENTIAL DAMAGES (INCLUDING, BUT NOT\n",
      "         LIMITED TO, PROCUREMENT OF SUBSTITUTE GOODS OR SERVICES; LOSS OF USE,\n",
      "         DATA, OR PROFITS; OR BUSINESS INTERRUPTION) HOWEVER CAUSED AND ON ANY\n",
      "         THEORY OF LIABILITY, WHETHER IN CONTRACT, STRICT LIABILITY, OR TORT\n",
      "         (INCLUDING NEGLIGENCE OR OTHERWISE) ARISING IN ANY WAY OUT OF THE USE\n",
      "         OF THIS SOFTWARE, EVEN IF ADVISED OF THE POSSIBILITY OF SUCH DAMAGE.\n",
      "         \n",
      "Location: c:\\users\\playdata2\\miniconda3\\envs\\deep\\lib\\site-packages\n",
      "Requires: \n",
      "Required-by: Bottleneck, contourpy, matplotlib, mkl_fft, mkl_random, numexpr, pandas, scikit-learn, scipy, seaborn, torchvision\n",
      "Note: you may need to restart the kernel to use updated packages.\n"
     ]
    }
   ],
   "source": [
    "%pip show numpy\n"
   ]
  },
  {
   "cell_type": "code",
   "execution_count": 24,
   "id": "8eb89f35",
   "metadata": {},
   "outputs": [
    {
     "ename": "RuntimeError",
     "evalue": "Numpy is not available",
     "output_type": "error",
     "traceback": [
      "\u001b[1;31m---------------------------------------------------------------------------\u001b[0m",
      "\u001b[1;31mRuntimeError\u001b[0m                              Traceback (most recent call last)",
      "Cell \u001b[1;32mIn[24], line 5\u001b[0m\n\u001b[0;32m      3\u001b[0m \u001b[38;5;28;01mimport\u001b[39;00m\u001b[38;5;250m \u001b[39m\u001b[38;5;21;01mnumpy\u001b[39;00m\u001b[38;5;250m \u001b[39m\u001b[38;5;28;01mas\u001b[39;00m\u001b[38;5;250m \u001b[39m\u001b[38;5;21;01mnp\u001b[39;00m\n\u001b[0;32m      4\u001b[0m a \u001b[38;5;241m=\u001b[39m torch\u001b[38;5;241m.\u001b[39mones(\u001b[38;5;241m5\u001b[39m)\n\u001b[1;32m----> 5\u001b[0m \u001b[43ma\u001b[49m\u001b[38;5;241;43m.\u001b[39;49m\u001b[43mnumpy\u001b[49m\u001b[43m(\u001b[49m\u001b[43m)\u001b[49m \u001b[38;5;66;03m#텐서 자체를 넘파이하기\u001b[39;00m\n",
      "\u001b[1;31mRuntimeError\u001b[0m: Numpy is not available"
     ]
    }
   ],
   "source": [
    "#텐서 -> 넘파이\n",
    "import torch\n",
    "import numpy as np\n",
    "a = torch.ones(5)\n",
    "a.numpy() #텐서 자체를 넘파이하기"
   ]
  },
  {
   "cell_type": "code",
   "execution_count": null,
   "id": "87a62070",
   "metadata": {},
   "outputs": [],
   "source": [
    "#넘파이-> 텐서\n",
    "import torch\n",
    "import numpy as np\n",
    "a = np.array([1,2,3,4,5])\n",
    "torch.from_numpy(a)"
   ]
  },
  {
   "cell_type": "code",
   "execution_count": null,
   "id": "f32a7ba9",
   "metadata": {},
   "outputs": [],
   "source": [
    "# GPU 사용\n",
    "if torch.cuda.is_available():\n",
    "    device = torch.device('cuda') # gpu\n",
    "    #텐서들은 gpu에서 연산해야되기 떄문에 생성을 gpu에서 생성\n",
    "    x = torch.ones(5,device=device) #gpu  생성\n",
    "    y = torch.ones(5) #cpu\n",
    "    y = y.to(device) #cpu->gpu로 이동\n",
    "    z = x+y\n",
    "    print(f'GPU 연산결과 : {z}')\n",
    "    print(f'다시 CPU로 :{z.to(\"cpu\",torch.double)}')\n",
    "else:\n",
    "    print('CUDA를 사용할 수 없습니다')\n",
    "    device = torch.device('cpu')"
   ]
  },
  {
   "cell_type": "code",
   "execution_count": null,
   "id": "9da4abc1",
   "metadata": {},
   "outputs": [],
   "source": [
    "torch.cuda.is_available()"
   ]
  },
  {
   "cell_type": "code",
   "execution_count": null,
   "id": "a706676e",
   "metadata": {},
   "outputs": [],
   "source": [
    "#행렬의 곱\n",
    "# (x, y) * (x1,y1)\n",
    "# y , x1의 차수는 같아야한다...\n",
    "# 행렬곱의 결과는 x, y1\n",
    "\n",
    "#텐서는 딥러닝을 위해 만들 자료구조... 내부에 gpu연산에 특화된 구조 일반적인 모양은 넘파이와 동일\n",
    "#텐서는 gpu연산을 지원ZZ"
   ]
  },
  {
   "cell_type": "code",
   "execution_count": null,
   "id": "1a63060b",
   "metadata": {},
   "outputs": [],
   "source": [
    "#자동 미분(Autograd) 매 계산과정마다 해당 계산과정의 미분값을 저장\n",
    "#파이토치 required_grad  = True로 설정하면 계산그래프라는 형태로 기록 -  동영상 녹화와 비슷한 원리\n",
    "# .backward() 호출하면 이과중을 거꾸로 되감으면서 각단계의 미분값을 계산해 최종 기울기를 얻는다"
   ]
  },
  {
   "cell_type": "code",
   "execution_count": null,
   "id": "04c9bc77",
   "metadata": {},
   "outputs": [],
   "source": [
    "x = torch.ones(2,2,requires_grad=True)\n",
    "x, x.size()"
   ]
  },
  {
   "cell_type": "code",
   "execution_count": null,
   "id": "63ef8e89",
   "metadata": {},
   "outputs": [],
   "source": [
    "y = x+2 #y도 계산 그래프에 추가\n",
    "print(y, y.grad_fn)\n",
    "z= y*y*3\n",
    "out = z.mean()\n",
    "z, out"
   ]
  },
  {
   "cell_type": "code",
   "execution_count": null,
   "id": "b9734f09",
   "metadata": {},
   "outputs": [],
   "source": [
    "# 기울기... 구하는 과정을... 역전파----> 기울기 계산\n",
    "# 최종결과가 out에서부터 시작해서 계산그래프를 거꾸로 거슬러 올라가면서 미분의 연쇄법칙을 사용해서 미분값을 계산\n",
    "# out을 x에 대해서 미분\n",
    "out.backward()\n",
    "x.grad\n"
   ]
  },
  {
   "cell_type": "code",
   "execution_count": null,
   "id": "554cf730",
   "metadata": {},
   "outputs": [],
   "source": [
    "# out=1/4(z1+z2+z3+z4)\n",
    "# x=3y^2\n",
    "# y = x+2\n",
    "\n",
    "#d-out/dxi = \n"
   ]
  },
  {
   "cell_type": "code",
   "execution_count": null,
   "id": "933fa591",
   "metadata": {},
   "outputs": [],
   "source": [
    "#기울기 제어\n",
    "#역전파, torch.no_grad, detach\n",
    "# required_grad = True 연상 추적\n",
    "import torch \n",
    "torch.randn(3, requires_grad=True)\n",
    "print(x)\n",
    "# y는 x로부터 연산기록을 물려받음\n",
    "y = x * 2\n",
    "#노름(유클리드 노름) 벡터의 크기를 측정하는 방법(원점으로 부터 벡터까지의 거리) 모든 요소를 각각 제곱하고 모두 더해서 결과에 제곱근(루트)\n",
    "#y의 실제데이터의 크기를 확인해서 반복\n",
    "i = 0\n",
    "while y.data.norm() < 1000:\n",
    "    y = y*2\n",
    "    i +=1\n",
    "print(f'y:{y}')\n",
    "print(f'반복횟수 :{i} y=x*2^i+1')\n",
    "y.data.norm() \n",
    "\n",
    "#벡터에 대한 역전파(야코비안 행렬)\n",
    "#벡터를 벡터로 미분하면 결과 행렬인 야코비안 행렬\n",
    "#pytorch는 전체 야코비안 행렬을 직접 계산하는 대신 야코비안- 벡터 곱을 계산해서 메모리를 절약\n",
    "v = torch.tensor([0.1,1.0,0.0001], dtype=torch.float)\n",
    "y.backward(v) #y를 x에 대해 미분한 야콥미안 행렬과 입력으로 제공된 벡터 v를 곱하라는 의미\n",
    "# Vt * J\n",
    "print(f'x.grad: {x.grad}')"
   ]
  },
  {
   "cell_type": "markdown",
   "id": "86ddac30",
   "metadata": {},
   "source": [
    "```\n",
    "스칼라 백워드 Scalar Backward : 역전파로 구하는 기울기가 하나일 때\n",
    "out.backward()\n",
    "최종점수가 숫자하나, ex)수학공부 1시간했을 때 최종점수에 몇점의 영향을 줬는지\n",
    "최종목표가 하나(스칼라) 이기 때문에 각 원인(각 변수)의 기여도를 바로 계산\n",
    "\n",
    "벡터 백워드 Vector Backward: 기울기가 여러개 일때 \n",
    "y.backward()\n",
    "과목별 점수가 담긴 성적표(벡터) 공부시간이 성적에 얼마나 영향을 줬는지 물어보면 애매함 국어성적?  영어성적?\n",
    "가중치 또는 중요도를 알려주는 벡터 v=torch.tensor([0.1,1.0,0.0001],dtype=torch.float)\n",
    "중요도를 반영해서 최종적으로 공부시간의 기여도를 확인\n",
    "```"
   ]
  },
  {
   "cell_type": "code",
   "execution_count": null,
   "id": "502c0ceb",
   "metadata": {},
   "outputs": [],
   "source": [
    "#각 학습을 진행하면서 도중에 모델의 성능을 평가가 필요- 기울기 계산을 하면 안됨\n",
    "with torch.no_grad():\n",
    "    print(f'no grad 내부: {(x**2).requires_grad}')\n",
    "\n",
    "# .detach() 계산그래프에서 텐서를 분리\n",
    "print(f'detach 전 {y.requires_grad}')\n",
    "y = x.detach()\n",
    "print(f'detach 후 {y.requires_grad}')"
   ]
  },
  {
   "cell_type": "code",
   "execution_count": null,
   "id": "02a6f88b",
   "metadata": {},
   "outputs": [],
   "source": []
  }
 ],
 "metadata": {
  "kernelspec": {
   "display_name": "deep",
   "language": "python",
   "name": "python3"
  },
  "language_info": {
   "codemirror_mode": {
    "name": "ipython",
    "version": 3
   },
   "file_extension": ".py",
   "mimetype": "text/x-python",
   "name": "python",
   "nbconvert_exporter": "python",
   "pygments_lexer": "ipython3",
   "version": "3.10.18"
  }
 },
 "nbformat": 4,
 "nbformat_minor": 5
}
