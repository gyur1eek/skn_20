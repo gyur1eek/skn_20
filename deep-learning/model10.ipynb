{
 "cells": [
  {
   "cell_type": "markdown",
   "id": "13748541",
   "metadata": {},
   "source": [
    "##### DNN  CNN\n",
    "    - 독립적인 정보\n",
    "    - 입력(x) 간의 순서나 연관성을 고려하지 않는다\n",
    "##### 시계열 : 시간의 연속적인 흐름\n",
    "    - 시계열 데이터 : 날씨, 주식, 문장 --> 순서가 중요한 데이터    \n",
    "##### RNN\n",
    "    - 순환하는 구조\n",
    "        - 시점1 (월요일):맑음(x1) 정보가 RNN에 들어온다 -> RNN 날씨가 맑았음(h1) 이라는 요약본을생성\n",
    "        - 시점2 (화요일):흐림(x2) ->RNN 새로운정보(흐림,x2) + 어제의기억(맑았음, h1) 함께 고려 해서\n",
    "            어제 맑았는데 오늘 흐림 h2 이라는 새로운 요약본을 생성\n",
    "        - 시점3 (수요일):비(x3)->RNN 새로운정보(비,x3) 정보와  + 어제의기억(어제 맑았는데 오늘 흐림 h2 )\n",
    "            새로운 상태 h3\n",
    "        - 반복\n",
    "    - 알고리즘\n",
    "        - 각 시점(time step)에서  1.현재의 입력 과 2 과거의기억(hidden state ht-1) 받아서 \n",
    "        3. 현재의 결과물과  4 다음시점으로 넘겨줄 최신기억 ht 을 생성\n",
    "        - ht 기억이 시계열 데이터의 맥락(Context) 저장하는 역활\n",
    "    - 장점\n",
    "        - 순서가 있는 데이터의 맥락을 학습\n",
    "    - 한계\n",
    "        - 기억력이 생각보다 짧다\n",
    "        - 시계열 데이터가 길어지면(예 100단계전의 정보)\n",
    "        - 이전정보가 소실되거나 반대로 너무 강해져서 폭주가 되서 제대로 학습이 안된다. \n",
    "        - 장기 기억 의존성 문제( Long-Term Dependency Problem)\n",
    "##### LSTM & GRU\n",
    "    - LSTM(Long Short-Term Memory) : RNN 내부에 게이트(Gate) 복잡한 장치 -> 잊고, 기억할 정보를 관리\n",
    "    - GRU(Gated Recurrent Unit) : LSTM 구조를 좀더  단순화시킨 모델, LSTM성능은 비슷, 속도는 빠르다\n",
    "##### RNN 핵심수식\n",
    "    - 은닉상태 계산\n",
    "        - h1 = tanh(wxht-1 + wxt - bh)\n",
    "    - 출력계산"
   ]
  },
  {
   "cell_type": "code",
   "execution_count": 1,
   "id": "6e34ccf6",
   "metadata": {},
   "outputs": [
    {
     "data": {
      "text/html": [
       "<div>\n",
       "<style scoped>\n",
       "    .dataframe tbody tr th:only-of-type {\n",
       "        vertical-align: middle;\n",
       "    }\n",
       "\n",
       "    .dataframe tbody tr th {\n",
       "        vertical-align: top;\n",
       "    }\n",
       "\n",
       "    .dataframe thead th {\n",
       "        text-align: right;\n",
       "    }\n",
       "</style>\n",
       "<table border=\"1\" class=\"dataframe\">\n",
       "  <thead>\n",
       "    <tr style=\"text-align: right;\">\n",
       "      <th></th>\n",
       "      <th>Date</th>\n",
       "      <th>Open</th>\n",
       "      <th>High</th>\n",
       "      <th>Low</th>\n",
       "      <th>Volume</th>\n",
       "      <th>Close</th>\n",
       "    </tr>\n",
       "  </thead>\n",
       "  <tbody>\n",
       "    <tr>\n",
       "      <th>0</th>\n",
       "      <td>2015-12-16</td>\n",
       "      <td>120</td>\n",
       "      <td>123</td>\n",
       "      <td>118</td>\n",
       "      <td>13181000</td>\n",
       "      <td>123</td>\n",
       "    </tr>\n",
       "    <tr>\n",
       "      <th>1</th>\n",
       "      <td>2015-12-17</td>\n",
       "      <td>124</td>\n",
       "      <td>126</td>\n",
       "      <td>122</td>\n",
       "      <td>17284900</td>\n",
       "      <td>123</td>\n",
       "    </tr>\n",
       "    <tr>\n",
       "      <th>2</th>\n",
       "      <td>2015-12-18</td>\n",
       "      <td>121</td>\n",
       "      <td>122</td>\n",
       "      <td>118</td>\n",
       "      <td>17948100</td>\n",
       "      <td>118</td>\n",
       "    </tr>\n",
       "    <tr>\n",
       "      <th>3</th>\n",
       "      <td>2015-12-21</td>\n",
       "      <td>120</td>\n",
       "      <td>120</td>\n",
       "      <td>116</td>\n",
       "      <td>11670000</td>\n",
       "      <td>117</td>\n",
       "    </tr>\n",
       "    <tr>\n",
       "      <th>4</th>\n",
       "      <td>2015-12-22</td>\n",
       "      <td>117</td>\n",
       "      <td>117</td>\n",
       "      <td>115</td>\n",
       "      <td>9689000</td>\n",
       "      <td>116</td>\n",
       "    </tr>\n",
       "  </tbody>\n",
       "</table>\n",
       "</div>"
      ],
      "text/plain": [
       "         Date  Open  High  Low    Volume  Close\n",
       "0  2015-12-16   120   123  118  13181000    123\n",
       "1  2015-12-17   124   126  122  17284900    123\n",
       "2  2015-12-18   121   122  118  17948100    118\n",
       "3  2015-12-21   120   120  116  11670000    117\n",
       "4  2015-12-22   117   117  115   9689000    116"
      ]
     },
     "execution_count": 1,
     "metadata": {},
     "output_type": "execute_result"
    }
   ],
   "source": [
    "import pandas as pd\n",
    "url = 'https://raw.githubusercontent.com/pia222sk20/python/refs/heads/main/data/time_data_train.csv'\n",
    "\n",
    "df = pd.read_csv(url)\n",
    "df.head()"
   ]
  },
  {
   "cell_type": "code",
   "execution_count": 2,
   "id": "13c7d18c",
   "metadata": {},
   "outputs": [
    {
     "name": "stdout",
     "output_type": "stream",
     "text": [
      "<class 'pandas.core.frame.DataFrame'>\n",
      "RangeIndex: 967 entries, 0 to 966\n",
      "Data columns (total 6 columns):\n",
      " #   Column  Non-Null Count  Dtype \n",
      "---  ------  --------------  ----- \n",
      " 0   Date    967 non-null    object\n",
      " 1   Open    967 non-null    int64 \n",
      " 2   High    967 non-null    int64 \n",
      " 3   Low     967 non-null    int64 \n",
      " 4   Volume  967 non-null    int64 \n",
      " 5   Close   967 non-null    int64 \n",
      "dtypes: int64(5), object(1)\n",
      "memory usage: 45.5+ KB\n"
     ]
    }
   ],
   "source": [
    "# 전체 데이터셋 확인\n",
    "df.info()"
   ]
  },
  {
   "cell_type": "code",
   "execution_count": 3,
   "id": "e23a2ff5",
   "metadata": {},
   "outputs": [],
   "source": [
    "# EDA - 탐색적 데이터 분석"
   ]
  },
  {
   "cell_type": "code",
   "execution_count": 4,
   "id": "914a6fe4",
   "metadata": {},
   "outputs": [],
   "source": [
    "# 데이터셋 정의\n",
    "import numpy as np\n",
    "from torch.utils.data.dataset import Dataset\n",
    "import pandas as pd\n",
    "from sklearn.preprocessing import StandardScaler\n",
    "import torch\n",
    "class StockDataSet(Dataset):\n",
    "    def __init__(self):\n",
    "        url = 'https://raw.githubusercontent.com/pia222sk20/python/refs/heads/main/data/time_data_train.csv'\n",
    "        self.csv = pd.read_csv(url)\n",
    "        data = self.csv.iloc[: , 1:-1].values\n",
    "        label = self.csv.iloc[:,-1].values.reshape(-1,1)\n",
    "        self.data = StandardScaler().fit_transform( data)\n",
    "        # 정답이 숫자 크다면 정규화가 학습에 도움이된다.\n",
    "        self.label = StandardScaler().fit_transform(label)\n",
    "        self.data = torch.Tensor(self.data)\n",
    "        self.label = torch.Tensor(self.label)\n",
    "    def __len__(self):\n",
    "        return len(self.data) - 30  # 사용가능한 배치 개수\n",
    "    def __getitem__(self, index):\n",
    "        data = self.data[index: index + 30]\n",
    "        label = self.label[index + 30]\n",
    "        return data, label\n"
   ]
  },
  {
   "cell_type": "code",
   "execution_count": 5,
   "id": "717ddbcc",
   "metadata": {},
   "outputs": [
    {
     "data": {
      "text/plain": [
       "(torch.Size([30, 4]), torch.Size([1]))"
      ]
     },
     "execution_count": 5,
     "metadata": {},
     "output_type": "execute_result"
    }
   ],
   "source": [
    "data, label = next(iter(StockDataSet()))\n",
    "data.size(), label.size()"
   ]
  },
  {
   "cell_type": "code",
   "execution_count": 6,
   "id": "3ee2bbdb",
   "metadata": {},
   "outputs": [],
   "source": [
    "import torch.nn as nn\n",
    "class StockRNN(nn.Module):\n",
    "    def __init__(self):\n",
    "        super(StockRNN,self).__init__()\n",
    "        # (30일, 배치16개 , 각 입력의 특성 4개)  batch_first = False\n",
    "        # (배치16개, 30일 각 입력의 특성 4) batch_first = True\n",
    "        self.rnn = nn.RNN(input_size=4, hidden_size=8,num_layers=5,batch_first=True)\n",
    "        # 출력 (batch, 30 , 8)\n",
    "        self.fc1 = nn.Linear(30*8,64)\n",
    "        self.fc2 = nn.Linear(64,1)\n",
    "        self.relu = nn.ReLU()\n",
    "    def forward(self,x,ho):  # 입력데이터는 (16,30,4)\n",
    "        # ho 는 초기 은닉상태 (num_layers, batch,hidden_size)  (5,16,8)        \n",
    "        # 출력 x는 모든 시점에 대한 hidden output을 담고 있어야.. (batch,seq_len,hidden_size) (16,30,8)\n",
    "        # 출력 hn 최종은닉상태(각레이어의 마지막 타임스템프 hidden state) (num_layer,batch,hidden_sate)(5,16,8)\n",
    "        x,hn =  self.rnn(x,ho) \n",
    "        # mlp 입력으로 사용될수 있도록 모양 변경\n",
    "        x = torch.reshape(x, (x.shape[0],-1))\n",
    "\n",
    "        # mlp \n",
    "        x = self.relu(self.fc1(x))\n",
    "        x = self.fc2(x)\n",
    "\n",
    "        # 예측한 종가 1차원 벡터\n",
    "        out = torch.flatten(x)\n",
    "        return out"
   ]
  },
  {
   "cell_type": "code",
   "execution_count": 7,
   "id": "6298b62f",
   "metadata": {},
   "outputs": [
    {
     "data": {
      "text/plain": [
       "torch.Size([16])"
      ]
     },
     "execution_count": 7,
     "metadata": {},
     "output_type": "execute_result"
    }
   ],
   "source": [
    "rnn = StockRNN()\n",
    "sample_data = torch.randn(16,30,4 )\n",
    "# 초기 hidden state 값  (num_layer, batch_size, hidden_size)  (5,16,8)\n",
    "ho = torch.zeros(5,16,8)\n",
    "out = rnn(sample_data,ho)\n",
    "out.size()"
   ]
  },
  {
   "cell_type": "code",
   "execution_count": 8,
   "id": "6cdd9f86",
   "metadata": {},
   "outputs": [],
   "source": [
    "from torch.optim.adam import Adam\n",
    "from torch.utils.data.dataloader import DataLoader\n",
    "device = 'cuda' if torch.cuda.is_available() else 'cpu'\n",
    "model = StockRNN().to(device)\n",
    "dataset = StockDataSet()\n",
    "loader = DataLoader(dataset,batch_size=16)\n",
    "optim = Adam(model.parameters(), lr=1e-3)"
   ]
  },
  {
   "cell_type": "code",
   "execution_count": 9,
   "id": "1796b9bd",
   "metadata": {},
   "outputs": [
    {
     "data": {
      "text/plain": [
       "(torch.float32, torch.float32)"
      ]
     },
     "execution_count": 9,
     "metadata": {},
     "output_type": "execute_result"
    }
   ],
   "source": [
    "data,label = next(iter(loader))\n",
    "data.dtype, label.dtype"
   ]
  },
  {
   "cell_type": "code",
   "execution_count": 10,
   "id": "58f46c9e",
   "metadata": {},
   "outputs": [
    {
     "name": "stdout",
     "output_type": "stream",
     "text": [
      "12\n"
     ]
    }
   ],
   "source": [
    "# Expected hidden size (5, 9, 8), got [5, 16, 8]\n",
    "# Rnn이 처리하는 배치크기는 9  우리가 설계한 ho 16\n",
    "print(len(dataset) % 25)\n",
    "# 마지막 배치가 개수가 모라자서 9"
   ]
  },
  {
   "cell_type": "code",
   "execution_count": 11,
   "id": "35b899cd",
   "metadata": {},
   "outputs": [
    {
     "name": "stderr",
     "output_type": "stream",
     "text": [
      "  0%|          | 0/59 [00:00<?, ?it/s]c:\\Users\\Playdata2\\miniconda3\\envs\\deep\\lib\\site-packages\\torch\\nn\\modules\\loss.py:634: UserWarning: Using a target size (torch.Size([16, 1])) that is different to the input size (torch.Size([16])). This will likely lead to incorrect results due to broadcasting. Please ensure they have the same size.\n",
      "  return F.mse_loss(input, target, reduction=self.reduction)\n",
      "epoch:1 loss:0.648121178150177:  93%|█████████▎| 55/59 [00:01<00:00, 52.27it/s]   c:\\Users\\Playdata2\\miniconda3\\envs\\deep\\lib\\site-packages\\torch\\nn\\modules\\loss.py:634: UserWarning: Using a target size (torch.Size([9, 1])) that is different to the input size (torch.Size([9])). This will likely lead to incorrect results due to broadcasting. Please ensure they have the same size.\n",
      "  return F.mse_loss(input, target, reduction=self.reduction)\n",
      "epoch:1 loss:0.5271588563919067: 100%|██████████| 59/59 [00:01<00:00, 52.13it/s]\n",
      "epoch:2 loss:0.5485593676567078: 100%|██████████| 59/59 [00:01<00:00, 53.58it/s]  \n",
      "epoch:3 loss:0.43718889355659485: 100%|██████████| 59/59 [00:01<00:00, 58.97it/s]  \n",
      "epoch:4 loss:0.36994469165802: 100%|██████████| 59/59 [00:01<00:00, 53.15it/s]    \n",
      "epoch:5 loss:0.19788803160190582: 100%|██████████| 59/59 [00:01<00:00, 57.84it/s]  \n",
      "epoch:6 loss:0.3785972595214844: 100%|██████████| 59/59 [00:01<00:00, 56.49it/s]   \n",
      "epoch:7 loss:0.31303754448890686: 100%|██████████| 59/59 [00:00<00:00, 59.14it/s] \n",
      "epoch:8 loss:0.3948090970516205: 100%|██████████| 59/59 [00:00<00:00, 59.26it/s]   \n",
      "epoch:9 loss:0.3649570941925049: 100%|██████████| 59/59 [00:01<00:00, 54.43it/s]  \n",
      "epoch:10 loss:0.33528175950050354: 100%|██████████| 59/59 [00:01<00:00, 52.68it/s]  \n",
      "epoch:11 loss:0.3225814402103424: 100%|██████████| 59/59 [00:01<00:00, 51.79it/s]  \n",
      "epoch:12 loss:0.3064797520637512: 100%|██████████| 59/59 [00:01<00:00, 56.15it/s]   \n",
      "epoch:13 loss:0.30465754866600037: 100%|██████████| 59/59 [00:01<00:00, 55.98it/s] \n",
      "epoch:14 loss:0.30302107334136963: 100%|██████████| 59/59 [00:01<00:00, 55.22it/s]  \n",
      "epoch:15 loss:0.2901240289211273: 100%|██████████| 59/59 [00:01<00:00, 56.86it/s]   \n",
      "epoch:16 loss:0.28177154064178467: 100%|██████████| 59/59 [00:01<00:00, 57.66it/s]  \n",
      "epoch:17 loss:0.2596832811832428: 100%|██████████| 59/59 [00:01<00:00, 57.69it/s]   \n",
      "epoch:18 loss:0.19878672063350677: 100%|██████████| 59/59 [00:01<00:00, 56.19it/s]  \n",
      "epoch:19 loss:0.2214209884405136: 100%|██████████| 59/59 [00:01<00:00, 48.71it/s]   \n",
      "epoch:20 loss:0.24563051760196686: 100%|██████████| 59/59 [00:01<00:00, 54.29it/s]  \n",
      "epoch:21 loss:0.2371552586555481: 100%|██████████| 59/59 [00:01<00:00, 57.47it/s]   \n",
      "epoch:22 loss:0.23435072600841522: 100%|██████████| 59/59 [00:01<00:00, 58.78it/s]  \n",
      "epoch:23 loss:0.20230931043624878: 100%|██████████| 59/59 [00:01<00:00, 57.10it/s]  \n",
      "epoch:24 loss:0.21008601784706116: 100%|██████████| 59/59 [00:00<00:00, 59.98it/s]  \n",
      "epoch:25 loss:0.19116318225860596: 100%|██████████| 59/59 [00:01<00:00, 52.86it/s]  \n",
      "epoch:26 loss:0.18081173300743103: 100%|██████████| 59/59 [00:01<00:00, 49.63it/s]  \n",
      "epoch:27 loss:0.17020189762115479: 100%|██████████| 59/59 [00:01<00:00, 50.71it/s]  \n",
      "epoch:28 loss:0.1575922816991806: 100%|██████████| 59/59 [00:01<00:00, 50.60it/s]   \n",
      "epoch:29 loss:0.14595600962638855: 100%|██████████| 59/59 [00:01<00:00, 56.60it/s]  \n",
      "epoch:30 loss:0.13292048871517181: 100%|██████████| 59/59 [00:01<00:00, 54.02it/s]  \n",
      "epoch:31 loss:0.11917166411876678: 100%|██████████| 59/59 [00:00<00:00, 59.94it/s]  \n",
      "epoch:32 loss:0.10560976713895798: 100%|██████████| 59/59 [00:00<00:00, 60.18it/s]  \n",
      "epoch:33 loss:0.0904141217470169: 100%|██████████| 59/59 [00:01<00:00, 56.32it/s]   \n",
      "epoch:34 loss:0.06693894416093826: 100%|██████████| 59/59 [00:00<00:00, 59.97it/s]  \n",
      "epoch:35 loss:0.038675159215927124: 100%|██████████| 59/59 [00:00<00:00, 59.85it/s] \n",
      "epoch:36 loss:0.017288491129875183: 100%|██████████| 59/59 [00:01<00:00, 57.36it/s] \n",
      "epoch:37 loss:0.12922810018062592: 100%|██████████| 59/59 [00:01<00:00, 57.09it/s]  \n",
      "epoch:38 loss:0.07709282636642456: 100%|██████████| 59/59 [00:01<00:00, 58.88it/s]  \n",
      "epoch:39 loss:0.07916045188903809: 100%|██████████| 59/59 [00:00<00:00, 59.13it/s]  \n",
      "epoch:40 loss:0.01256455946713686: 100%|██████████| 59/59 [00:00<00:00, 61.05it/s]  \n",
      "epoch:41 loss:0.049648068845272064: 100%|██████████| 59/59 [00:01<00:00, 58.97it/s] \n",
      "epoch:42 loss:0.050474297255277634: 100%|██████████| 59/59 [00:00<00:00, 59.00it/s] \n",
      "epoch:43 loss:0.021349776536226273: 100%|██████████| 59/59 [00:01<00:00, 56.19it/s] \n",
      "epoch:44 loss:0.01677102968096733: 100%|██████████| 59/59 [00:00<00:00, 60.76it/s]  \n",
      "epoch:45 loss:0.014227618463337421: 100%|██████████| 59/59 [00:01<00:00, 56.86it/s] \n",
      "epoch:46 loss:0.011550959199666977: 100%|██████████| 59/59 [00:01<00:00, 58.64it/s] \n",
      "epoch:47 loss:0.008444474078714848: 100%|██████████| 59/59 [00:01<00:00, 52.84it/s] \n",
      "epoch:48 loss:0.008086453191936016: 100%|██████████| 59/59 [00:00<00:00, 59.20it/s] \n",
      "epoch:49 loss:0.016257736831903458: 100%|██████████| 59/59 [00:01<00:00, 56.18it/s] \n",
      "epoch:50 loss:0.009123418480157852: 100%|██████████| 59/59 [00:00<00:00, 59.98it/s] \n",
      "epoch:51 loss:0.009297252632677555: 100%|██████████| 59/59 [00:01<00:00, 56.21it/s] \n",
      "epoch:52 loss:0.01000215020030737: 100%|██████████| 59/59 [00:01<00:00, 58.03it/s]  \n",
      "epoch:53 loss:0.010049049742519855: 100%|██████████| 59/59 [00:01<00:00, 58.24it/s] \n",
      "epoch:54 loss:0.009393725544214249: 100%|██████████| 59/59 [00:00<00:00, 62.11it/s] \n",
      "epoch:55 loss:0.00891093723475933: 100%|██████████| 59/59 [00:00<00:00, 59.34it/s]  \n",
      "epoch:56 loss:0.00849510170519352: 100%|██████████| 59/59 [00:00<00:00, 60.85it/s]  \n",
      "epoch:57 loss:0.008161340840160847: 100%|██████████| 59/59 [00:00<00:00, 60.41it/s] \n",
      "epoch:58 loss:0.008045214228332043: 100%|██████████| 59/59 [00:01<00:00, 54.39it/s] \n",
      "epoch:59 loss:0.008030532859265804: 100%|██████████| 59/59 [00:00<00:00, 59.46it/s] \n",
      "epoch:60 loss:0.00805923342704773: 100%|██████████| 59/59 [00:01<00:00, 56.45it/s]  \n",
      "epoch:61 loss:0.008149512112140656: 100%|██████████| 59/59 [00:01<00:00, 52.31it/s] \n",
      "epoch:62 loss:0.00828374084085226: 100%|██████████| 59/59 [00:01<00:00, 48.90it/s]  \n",
      "epoch:63 loss:0.00834827870130539: 100%|██████████| 59/59 [00:01<00:00, 55.52it/s]  \n",
      "epoch:64 loss:0.006689433008432388: 100%|██████████| 59/59 [00:01<00:00, 56.45it/s] \n",
      "epoch:65 loss:0.006386955734342337: 100%|██████████| 59/59 [00:01<00:00, 53.37it/s]\n",
      "epoch:66 loss:0.007329120300710201: 100%|██████████| 59/59 [00:01<00:00, 47.23it/s] \n",
      "epoch:67 loss:0.010088248178362846: 100%|██████████| 59/59 [00:01<00:00, 45.82it/s] \n",
      "epoch:68 loss:0.006834599655121565: 100%|██████████| 59/59 [00:01<00:00, 54.87it/s] \n",
      "epoch:69 loss:0.007191681768745184: 100%|██████████| 59/59 [00:01<00:00, 51.56it/s] \n",
      "epoch:70 loss:0.011566354893147945: 100%|██████████| 59/59 [00:01<00:00, 49.13it/s] \n",
      "epoch:71 loss:0.009265374392271042: 100%|██████████| 59/59 [00:01<00:00, 49.38it/s] \n",
      "epoch:72 loss:0.010303270071744919: 100%|██████████| 59/59 [00:01<00:00, 58.13it/s] \n",
      "epoch:73 loss:0.010951986536383629: 100%|██████████| 59/59 [00:01<00:00, 55.33it/s] \n",
      "epoch:74 loss:0.010334910824894905: 100%|██████████| 59/59 [00:01<00:00, 56.19it/s] \n",
      "epoch:75 loss:0.010510249063372612: 100%|██████████| 59/59 [00:01<00:00, 55.83it/s] \n",
      "epoch:76 loss:0.010481808334589005: 100%|██████████| 59/59 [00:00<00:00, 62.69it/s] \n",
      "epoch:77 loss:0.01029204297810793: 100%|██████████| 59/59 [00:00<00:00, 60.00it/s]  \n",
      "epoch:78 loss:0.01021544449031353: 100%|██████████| 59/59 [00:00<00:00, 63.37it/s]  \n",
      "epoch:79 loss:0.01012642215937376: 100%|██████████| 59/59 [00:00<00:00, 60.19it/s]  \n",
      "epoch:80 loss:0.010088344104588032: 100%|██████████| 59/59 [00:00<00:00, 64.36it/s] \n",
      "epoch:81 loss:0.010220284573733807: 100%|██████████| 59/59 [00:00<00:00, 60.47it/s] \n",
      "epoch:82 loss:0.010300235822796822: 100%|██████████| 59/59 [00:00<00:00, 63.15it/s] \n",
      "epoch:83 loss:0.007767855189740658: 100%|██████████| 59/59 [00:00<00:00, 60.01it/s] \n",
      "epoch:84 loss:0.020071420818567276: 100%|██████████| 59/59 [00:00<00:00, 65.55it/s] \n",
      "epoch:85 loss:0.009583567269146442: 100%|██████████| 59/59 [00:01<00:00, 57.09it/s] \n",
      "epoch:86 loss:0.01261577382683754: 100%|██████████| 59/59 [00:00<00:00, 62.10it/s]  \n",
      "epoch:87 loss:0.011459981091320515: 100%|██████████| 59/59 [00:00<00:00, 60.95it/s] \n",
      "epoch:88 loss:0.02330860309302807: 100%|██████████| 59/59 [00:00<00:00, 60.94it/s]  \n",
      "epoch:89 loss:0.007246415596455336: 100%|██████████| 59/59 [00:01<00:00, 57.99it/s] \n",
      "epoch:90 loss:0.006482855882495642: 100%|██████████| 59/59 [00:01<00:00, 55.22it/s] \n",
      "epoch:91 loss:0.007032391615211964: 100%|██████████| 59/59 [00:01<00:00, 53.01it/s] \n",
      "epoch:92 loss:0.009328605607151985: 100%|██████████| 59/59 [00:01<00:00, 57.61it/s] \n",
      "epoch:93 loss:0.007138784974813461: 100%|██████████| 59/59 [00:01<00:00, 55.91it/s] \n",
      "epoch:94 loss:0.0121797239407897: 100%|██████████| 59/59 [00:00<00:00, 60.00it/s]   \n",
      "epoch:95 loss:0.015054253861308098: 100%|██████████| 59/59 [00:00<00:00, 60.98it/s] \n",
      "epoch:96 loss:0.014386230148375034: 100%|██████████| 59/59 [00:01<00:00, 57.87it/s] \n",
      "epoch:97 loss:0.012461918406188488: 100%|██████████| 59/59 [00:00<00:00, 61.40it/s] \n",
      "epoch:98 loss:0.008807685226202011: 100%|██████████| 59/59 [00:00<00:00, 59.02it/s] \n",
      "epoch:99 loss:0.007532243151217699: 100%|██████████| 59/59 [00:01<00:00, 52.06it/s] \n",
      "epoch:100 loss:0.015221145004034042: 100%|██████████| 59/59 [00:01<00:00, 46.81it/s] \n",
      "epoch:101 loss:0.006627126131206751: 100%|██████████| 59/59 [00:00<00:00, 64.06it/s] \n",
      "epoch:102 loss:0.024589763954281807: 100%|██████████| 59/59 [00:01<00:00, 55.13it/s] \n",
      "epoch:103 loss:0.006591100711375475: 100%|██████████| 59/59 [00:01<00:00, 56.95it/s] \n",
      "epoch:104 loss:0.0073100547306239605: 100%|██████████| 59/59 [00:01<00:00, 56.77it/s]\n",
      "epoch:105 loss:0.007301576901227236: 100%|██████████| 59/59 [00:01<00:00, 57.36it/s]\n",
      "epoch:106 loss:0.006842189934104681: 100%|██████████| 59/59 [00:01<00:00, 51.08it/s] \n",
      "epoch:107 loss:0.007367044221609831: 100%|██████████| 59/59 [00:01<00:00, 56.07it/s] \n",
      "epoch:108 loss:0.006523957941681147: 100%|██████████| 59/59 [00:01<00:00, 55.61it/s] \n",
      "epoch:109 loss:0.009463934227824211: 100%|██████████| 59/59 [00:00<00:00, 59.02it/s] \n",
      "epoch:110 loss:0.018969539552927017: 100%|██████████| 59/59 [00:01<00:00, 53.79it/s] \n",
      "epoch:111 loss:0.017476916313171387: 100%|██████████| 59/59 [00:01<00:00, 54.09it/s] \n",
      "epoch:112 loss:0.016077836975455284: 100%|██████████| 59/59 [00:01<00:00, 55.74it/s] \n",
      "epoch:113 loss:0.01856006681919098: 100%|██████████| 59/59 [00:01<00:00, 54.07it/s] \n",
      "epoch:114 loss:0.015444410033524036: 100%|██████████| 59/59 [00:01<00:00, 53.71it/s] \n",
      "epoch:115 loss:0.012497701682150364: 100%|██████████| 59/59 [00:01<00:00, 56.63it/s] \n",
      "epoch:116 loss:0.01036316342651844: 100%|██████████| 59/59 [00:00<00:00, 60.26it/s]  \n",
      "epoch:117 loss:0.008562035858631134: 100%|██████████| 59/59 [00:00<00:00, 62.61it/s] \n",
      "epoch:118 loss:0.007409387733787298: 100%|██████████| 59/59 [00:01<00:00, 55.56it/s] \n",
      "epoch:119 loss:0.006696342024952173: 100%|██████████| 59/59 [00:01<00:00, 55.89it/s] \n",
      "epoch:120 loss:0.006737065967172384: 100%|██████████| 59/59 [00:01<00:00, 53.78it/s] \n",
      "epoch:121 loss:0.008965126238763332: 100%|██████████| 59/59 [00:01<00:00, 57.26it/s] \n",
      "epoch:122 loss:0.008705188520252705: 100%|██████████| 59/59 [00:01<00:00, 56.77it/s] \n",
      "epoch:123 loss:0.009214367717504501: 100%|██████████| 59/59 [00:01<00:00, 56.10it/s]  \n",
      "epoch:124 loss:0.01354968547821045: 100%|██████████| 59/59 [00:01<00:00, 58.95it/s]  \n",
      "epoch:125 loss:0.016034040600061417: 100%|██████████| 59/59 [00:01<00:00, 57.31it/s] \n",
      "epoch:126 loss:0.014067882671952248: 100%|██████████| 59/59 [00:01<00:00, 58.97it/s] \n",
      "epoch:127 loss:0.016669955104589462: 100%|██████████| 59/59 [00:01<00:00, 54.98it/s] \n",
      "epoch:128 loss:0.014995574951171875: 100%|██████████| 59/59 [00:01<00:00, 56.28it/s] \n",
      "epoch:129 loss:0.012746935710310936: 100%|██████████| 59/59 [00:01<00:00, 53.27it/s] \n",
      "epoch:130 loss:0.010571243241429329: 100%|██████████| 59/59 [00:01<00:00, 55.15it/s] \n",
      "epoch:131 loss:0.008842173963785172: 100%|██████████| 59/59 [00:01<00:00, 55.64it/s] \n",
      "epoch:132 loss:0.007127490825951099: 100%|██████████| 59/59 [00:01<00:00, 49.16it/s] \n",
      "epoch:133 loss:0.0068152789026498795: 100%|██████████| 59/59 [00:01<00:00, 57.36it/s]\n",
      "epoch:134 loss:0.007094908505678177: 100%|██████████| 59/59 [00:01<00:00, 58.75it/s] \n",
      "epoch:135 loss:0.009111376479268074: 100%|██████████| 59/59 [00:01<00:00, 45.86it/s] \n",
      "epoch:136 loss:0.009865271858870983: 100%|██████████| 59/59 [00:01<00:00, 47.18it/s] \n",
      "epoch:137 loss:0.008601267822086811: 100%|██████████| 59/59 [00:01<00:00, 57.13it/s] \n",
      "epoch:138 loss:0.010755687952041626: 100%|██████████| 59/59 [00:01<00:00, 55.37it/s]  \n",
      "epoch:139 loss:0.011624814942479134: 100%|██████████| 59/59 [00:00<00:00, 59.12it/s] \n",
      "epoch:140 loss:0.01573672890663147: 100%|██████████| 59/59 [00:01<00:00, 56.12it/s]  \n",
      "epoch:141 loss:0.008780830539762974: 100%|██████████| 59/59 [00:00<00:00, 63.17it/s] \n",
      "epoch:142 loss:0.011697430163621902: 100%|██████████| 59/59 [00:00<00:00, 62.21it/s] \n",
      "epoch:143 loss:0.009829234331846237: 100%|██████████| 59/59 [00:00<00:00, 60.95it/s] \n",
      "epoch:144 loss:0.008052162826061249: 100%|██████████| 59/59 [00:01<00:00, 56.03it/s] \n",
      "epoch:145 loss:0.008126488886773586: 100%|██████████| 59/59 [00:01<00:00, 56.00it/s] \n",
      "epoch:146 loss:0.007064639590680599: 100%|██████████| 59/59 [00:01<00:00, 55.27it/s] \n",
      "epoch:147 loss:0.006894518621265888: 100%|██████████| 59/59 [00:01<00:00, 50.93it/s] \n",
      "epoch:148 loss:0.007000223267823458: 100%|██████████| 59/59 [00:01<00:00, 49.75it/s] \n",
      "epoch:149 loss:0.0069161816500127316: 100%|██████████| 59/59 [00:00<00:00, 61.11it/s]\n",
      "epoch:150 loss:0.007293705362826586: 100%|██████████| 59/59 [00:01<00:00, 57.63it/s] \n",
      "epoch:151 loss:0.008000858128070831: 100%|██████████| 59/59 [00:01<00:00, 55.42it/s] \n",
      "epoch:152 loss:0.0074154408648610115: 100%|██████████| 59/59 [00:00<00:00, 62.39it/s]\n",
      "epoch:153 loss:0.007012038957327604: 100%|██████████| 59/59 [00:00<00:00, 63.27it/s] \n",
      "epoch:154 loss:0.006635628174990416: 100%|██████████| 59/59 [00:00<00:00, 59.12it/s] \n",
      "epoch:155 loss:0.0065985387191176414: 100%|██████████| 59/59 [00:01<00:00, 56.83it/s]\n",
      "epoch:156 loss:0.006828309502452612: 100%|██████████| 59/59 [00:01<00:00, 56.52it/s] \n",
      "epoch:157 loss:0.007539188489317894: 100%|██████████| 59/59 [00:01<00:00, 51.49it/s] \n",
      "epoch:158 loss:0.010109033435583115: 100%|██████████| 59/59 [00:01<00:00, 56.01it/s] \n",
      "epoch:159 loss:0.0071044908836483955: 100%|██████████| 59/59 [00:01<00:00, 44.04it/s]\n",
      "epoch:160 loss:0.011433165520429611: 100%|██████████| 59/59 [00:01<00:00, 52.14it/s] \n",
      "epoch:161 loss:0.0068885027430951595: 100%|██████████| 59/59 [00:01<00:00, 53.07it/s]\n",
      "epoch:162 loss:0.010489079169929028: 100%|██████████| 59/59 [00:01<00:00, 50.60it/s] \n",
      "epoch:163 loss:0.00809541903436184: 100%|██████████| 59/59 [00:01<00:00, 57.76it/s]  \n",
      "epoch:164 loss:0.007164312060922384: 100%|██████████| 59/59 [00:00<00:00, 64.43it/s] \n",
      "epoch:165 loss:0.006700294092297554: 100%|██████████| 59/59 [00:00<00:00, 61.03it/s] \n",
      "epoch:166 loss:0.008190693333745003: 100%|██████████| 59/59 [00:01<00:00, 55.34it/s] \n",
      "epoch:167 loss:0.007450050674378872: 100%|██████████| 59/59 [00:00<00:00, 61.81it/s] \n",
      "epoch:168 loss:0.006354630924761295: 100%|██████████| 59/59 [00:00<00:00, 62.00it/s] \n",
      "epoch:169 loss:0.00823573861271143: 100%|██████████| 59/59 [00:01<00:00, 58.52it/s]  \n",
      "epoch:170 loss:0.011061013676226139: 100%|██████████| 59/59 [00:01<00:00, 55.41it/s] \n",
      "epoch:171 loss:0.009481092914938927: 100%|██████████| 59/59 [00:00<00:00, 59.61it/s] \n",
      "epoch:172 loss:0.02532774768769741: 100%|██████████| 59/59 [00:00<00:00, 60.04it/s]  \n",
      "epoch:173 loss:0.006422589533030987: 100%|██████████| 59/59 [00:00<00:00, 60.59it/s] \n",
      "epoch:174 loss:0.015295219607651234: 100%|██████████| 59/59 [00:01<00:00, 57.95it/s] \n",
      "epoch:175 loss:0.0177487563341856: 100%|██████████| 59/59 [00:00<00:00, 59.64it/s]   \n",
      "epoch:176 loss:0.014294094406068325: 100%|██████████| 59/59 [00:01<00:00, 58.50it/s] \n",
      "epoch:177 loss:0.019954601302742958: 100%|██████████| 59/59 [00:00<00:00, 61.90it/s] \n",
      "epoch:178 loss:0.01622674986720085: 100%|██████████| 59/59 [00:01<00:00, 55.70it/s]  \n",
      "epoch:179 loss:0.008043467998504639: 100%|██████████| 59/59 [00:00<00:00, 60.95it/s] \n",
      "epoch:180 loss:0.006760123185813427: 100%|██████████| 59/59 [00:00<00:00, 60.89it/s] \n",
      "epoch:181 loss:0.008056184276938438: 100%|██████████| 59/59 [00:01<00:00, 57.11it/s] \n",
      "epoch:182 loss:0.007033173460513353: 100%|██████████| 59/59 [00:01<00:00, 55.69it/s] \n",
      "epoch:183 loss:0.006456243339926004: 100%|██████████| 59/59 [00:01<00:00, 58.90it/s]  \n",
      "epoch:184 loss:0.009019993245601654: 100%|██████████| 59/59 [00:01<00:00, 58.91it/s] \n",
      "epoch:185 loss:0.00624255184084177: 100%|██████████| 59/59 [00:01<00:00, 51.95it/s]   \n",
      "epoch:186 loss:0.010131127201020718: 100%|██████████| 59/59 [00:01<00:00, 51.94it/s] \n",
      "epoch:187 loss:0.006707031279802322: 100%|██████████| 59/59 [00:01<00:00, 55.72it/s] \n",
      "epoch:188 loss:0.006903654430061579: 100%|██████████| 59/59 [00:01<00:00, 52.11it/s] \n",
      "epoch:189 loss:0.006130749825388193: 100%|██████████| 59/59 [00:01<00:00, 53.92it/s] \n",
      "epoch:190 loss:0.009862120263278484: 100%|██████████| 59/59 [00:00<00:00, 60.85it/s] \n",
      "epoch:191 loss:0.00832763034850359: 100%|██████████| 59/59 [00:00<00:00, 62.81it/s]  \n",
      "epoch:192 loss:0.015143947675824165: 100%|██████████| 59/59 [00:01<00:00, 56.18it/s] \n",
      "epoch:193 loss:0.007193470373749733: 100%|██████████| 59/59 [00:01<00:00, 49.05it/s]\n",
      "epoch:194 loss:0.009678114205598831: 100%|██████████| 59/59 [00:01<00:00, 52.34it/s] \n",
      "epoch:195 loss:0.012723787687718868: 100%|██████████| 59/59 [00:01<00:00, 56.19it/s] \n",
      "epoch:196 loss:0.0077243889681994915: 100%|██████████| 59/59 [00:01<00:00, 55.11it/s]\n",
      "epoch:197 loss:0.008330690674483776: 100%|██████████| 59/59 [00:01<00:00, 54.79it/s] \n",
      "epoch:198 loss:0.006933525204658508: 100%|██████████| 59/59 [00:01<00:00, 54.65it/s] \n",
      "epoch:199 loss:0.010618025436997414: 100%|██████████| 59/59 [00:01<00:00, 54.33it/s] \n",
      "epoch:200 loss:0.00939994491636753: 100%|██████████| 59/59 [00:01<00:00, 51.38it/s]  \n"
     ]
    }
   ],
   "source": [
    "from tqdm import tqdm\n",
    "# criterian = nn.MSELoss()\n",
    "for epoch in range(200):\n",
    "    loop = tqdm(loader)\n",
    "    for data, label in loop:\n",
    "        optim.zero_grad()\n",
    "        # 초기 은닉상태의 배치크기는 DataLoader가 주는 배치 크기\n",
    "        batch_size = data.size(0)\n",
    "        ho = torch.zeros(5,batch_size,8).to(device)\n",
    "        # 모델의 예측값\n",
    "        pred = model(data.to(device), ho)\n",
    "        # 손실값\n",
    "        loss = nn.MSELoss()(pred, label.to(device))\n",
    "        loss.backward()\n",
    "        optim.step()\n",
    "\n",
    "        loop.set_description(f'epoch:{epoch+1} loss:{loss.item()}')\n",
    "torch.save(model.state_dict(), './rnn.pth')\n"
   ]
  },
  {
   "cell_type": "code",
   "execution_count": 12,
   "id": "199e6dd1",
   "metadata": {},
   "outputs": [
    {
     "name": "stderr",
     "output_type": "stream",
     "text": [
      "c:\\Users\\Playdata2\\miniconda3\\envs\\deep\\lib\\site-packages\\torch\\nn\\modules\\loss.py:634: UserWarning: Using a target size (torch.Size([1, 1])) that is different to the input size (torch.Size([1])). This will likely lead to incorrect results due to broadcasting. Please ensure they have the same size.\n",
      "  return F.mse_loss(input, target, reduction=self.reduction)\n"
     ]
    },
    {
     "name": "stdout",
     "output_type": "stream",
     "text": [
      "total_loss: 0.0149\n"
     ]
    }
   ],
   "source": [
    "# 모델 성능평가하기\n",
    "import matplotlib.pyplot as plt\n",
    "\n",
    "loader = DataLoader(dataset,batch_size =1)\n",
    "preds  = []\n",
    "total_loss = 0\n",
    "with torch.no_grad():\n",
    "    model.load_state_dict(torch.load('rnn.pth', map_location= device,weights_only=False))\n",
    "    for data, label in loader:\n",
    "        #초기 은닉상태의 배치크기는 DataLoader가 주는 배치 크기\n",
    "        batch_size = data.size(0)\n",
    "\n",
    "        ho=torch.zeros(5,batch_size,8).to(device)\n",
    "        #모델의 예측값\n",
    "        pred = model(data.to(device),ho)\n",
    "        preds.append(pred.item())\n",
    "        #손실값\n",
    "        loss = nn.MSELoss()(pred,label.to(device))\n",
    "        total_loss +=(loss.item()/ len(loader)) \n",
    "\n",
    "print(f'total_loss: {total_loss:.4f}')"
   ]
  },
  {
   "cell_type": "code",
   "execution_count": 13,
   "id": "75d31022",
   "metadata": {},
   "outputs": [
    {
     "data": {
      "image/png": "[encoded data removed]",
      "text/plain": [
       "<Figure size 1200x500 with 1 Axes>"
      ]
     },
     "metadata": {},
     "output_type": "display_data"
    }
   ],
   "source": [
    "plt.figure(figsize=(12,5))\n",
    "plt.plot(preds, label='preds')\n",
    "plt.plot(dataset.label, label='real')\n",
    "plt.legend()\n",
    "plt.show()"
   ]
  },
  {
   "cell_type": "code",
   "execution_count": 14,
   "id": "c20c3aca",
   "metadata": {},
   "outputs": [
    {
     "data": {
      "text/plain": [
       "torch.Size([1, 30, 4])"
      ]
     },
     "execution_count": 14,
     "metadata": {},
     "output_type": "execute_result"
    }
   ],
   "source": [
    "last_data =  None\n",
    "for data in loader:\n",
    "    last_data = data\n",
    "\n",
    "last_data[0].size()"
   ]
  },
  {
   "cell_type": "code",
   "execution_count": 15,
   "id": "7332ed14",
   "metadata": {},
   "outputs": [
    {
     "name": "stdout",
     "output_type": "stream",
     "text": [
      "0.8085299134254456\n"
     ]
    }
   ],
   "source": [
    "with torch.no_grad():\n",
    "# df.iloc[:,1:-1].tail(30)\n",
    "    last_30 = df.iloc[-30:,1:-1].values\n",
    "# torch.tensor(last_30).size() #이렇게 학습하면 오류남 학습할때 3차원 batch까지해서 배치 맞추어져야함 \n",
    "    X = torch.tensor(last_30,dtype=torch.float32).unsqueeze(0)\n",
    "    ho =torch.zeros(5,1,8).to(device) # 초기은닉 상태\n",
    "    # 구성(num_layer, batch, hidden)\n",
    "    pred = model(X.to(device),ho)\n",
    "    print(pred.item())"
   ]
  },
  {
   "cell_type": "code",
   "execution_count": 16,
   "id": "bed1befe",
   "metadata": {},
   "outputs": [
    {
     "data": {
      "text/plain": [
       "array([[-1., -1.],\n",
       "       [ 1.,  1.]])"
      ]
     },
     "execution_count": 16,
     "metadata": {},
     "output_type": "execute_result"
    }
   ],
   "source": [
    "# yfinance\n",
    "X = np.array([\n",
    "    [10,20],[100,200]\n",
    "])\n",
    "scaler = StandardScaler()\n",
    "X_scaled = scaler.fit_transform(X)\n",
    "X_scaled"
   ]
  },
  {
   "cell_type": "code",
   "execution_count": 17,
   "id": "1394b19b",
   "metadata": {},
   "outputs": [
    {
     "data": {
      "text/plain": [
       "array([[ 10.,  20.],\n",
       "       [100., 200.]])"
      ]
     },
     "execution_count": 17,
     "metadata": {},
     "output_type": "execute_result"
    }
   ],
   "source": [
    "scaler.inverse_transform(X_scaled)"
   ]
  },
  {
   "cell_type": "code",
   "execution_count": 18,
   "id": "1c74ea42",
   "metadata": {},
   "outputs": [
    {
     "name": "stdout",
     "output_type": "stream",
     "text": [
      "Requirement already satisfied: yfinance in c:\\users\\playdata2\\miniconda3\\envs\\deep\\lib\\site-packages (0.2.66)\n",
      "Requirement already satisfied: pandas>=1.3.0 in c:\\users\\playdata2\\miniconda3\\envs\\deep\\lib\\site-packages (from yfinance) (2.3.3)\n",
      "Requirement already satisfied: numpy>=1.16.5 in c:\\users\\playdata2\\miniconda3\\envs\\deep\\lib\\site-packages (from yfinance) (2.2.6)\n",
      "Requirement already satisfied: requests>=2.31 in c:\\users\\playdata2\\miniconda3\\envs\\deep\\lib\\site-packages (from yfinance) (2.32.5)\n",
      "Requirement already satisfied: multitasking>=0.0.7 in c:\\users\\playdata2\\miniconda3\\envs\\deep\\lib\\site-packages (from yfinance) (0.0.12)\n",
      "Requirement already satisfied: platformdirs>=2.0.0 in c:\\users\\playdata2\\miniconda3\\envs\\deep\\lib\\site-packages (from yfinance) (4.5.0)\n",
      "Requirement already satisfied: pytz>=2022.5 in c:\\users\\playdata2\\miniconda3\\envs\\deep\\lib\\site-packages (from yfinance) (2025.2)\n",
      "Requirement already satisfied: frozendict>=2.3.4 in c:\\users\\playdata2\\miniconda3\\envs\\deep\\lib\\site-packages (from yfinance) (2.4.6)\n",
      "Requirement already satisfied: peewee>=3.16.2 in c:\\users\\playdata2\\miniconda3\\envs\\deep\\lib\\site-packages (from yfinance) (3.18.2)\n",
      "Requirement already satisfied: beautifulsoup4>=4.11.1 in c:\\users\\playdata2\\miniconda3\\envs\\deep\\lib\\site-packages (from yfinance) (4.14.2)\n",
      "Requirement already satisfied: curl_cffi>=0.7 in c:\\users\\playdata2\\miniconda3\\envs\\deep\\lib\\site-packages (from yfinance) (0.13.0)\n",
      "Requirement already satisfied: protobuf>=3.19.0 in c:\\users\\playdata2\\miniconda3\\envs\\deep\\lib\\site-packages (from yfinance) (5.29.3)\n",
      "Requirement already satisfied: websockets>=13.0 in c:\\users\\playdata2\\miniconda3\\envs\\deep\\lib\\site-packages (from yfinance) (15.0.1)\n",
      "Requirement already satisfied: soupsieve>1.2 in c:\\users\\playdata2\\miniconda3\\envs\\deep\\lib\\site-packages (from beautifulsoup4>=4.11.1->yfinance) (2.8)\n",
      "Requirement already satisfied: typing-extensions>=4.0.0 in c:\\users\\playdata2\\miniconda3\\envs\\deep\\lib\\site-packages (from beautifulsoup4>=4.11.1->yfinance) (4.15.0)\n",
      "Requirement already satisfied: cffi>=1.12.0 in c:\\users\\playdata2\\miniconda3\\envs\\deep\\lib\\site-packages (from curl_cffi>=0.7->yfinance) (2.0.0)\n",
      "Requirement already satisfied: certifi>=2024.2.2 in c:\\users\\playdata2\\miniconda3\\envs\\deep\\lib\\site-packages (from curl_cffi>=0.7->yfinance) (2025.10.5)\n",
      "Requirement already satisfied: pycparser in c:\\users\\playdata2\\miniconda3\\envs\\deep\\lib\\site-packages (from cffi>=1.12.0->curl_cffi>=0.7->yfinance) (2.23)\n",
      "Requirement already satisfied: python-dateutil>=2.8.2 in c:\\users\\playdata2\\miniconda3\\envs\\deep\\lib\\site-packages (from pandas>=1.3.0->yfinance) (2.9.0.post0)\n",
      "Requirement already satisfied: tzdata>=2022.7 in c:\\users\\playdata2\\miniconda3\\envs\\deep\\lib\\site-packages (from pandas>=1.3.0->yfinance) (2025.2)\n",
      "Requirement already satisfied: six>=1.5 in c:\\users\\playdata2\\miniconda3\\envs\\deep\\lib\\site-packages (from python-dateutil>=2.8.2->pandas>=1.3.0->yfinance) (1.17.0)\n",
      "Requirement already satisfied: charset_normalizer<4,>=2 in c:\\users\\playdata2\\miniconda3\\envs\\deep\\lib\\site-packages (from requests>=2.31->yfinance) (3.3.2)\n",
      "Requirement already satisfied: idna<4,>=2.5 in c:\\users\\playdata2\\miniconda3\\envs\\deep\\lib\\site-packages (from requests>=2.31->yfinance) (3.7)\n",
      "Requirement already satisfied: urllib3<3,>=1.21.1 in c:\\users\\playdata2\\miniconda3\\envs\\deep\\lib\\site-packages (from requests>=2.31->yfinance) (2.5.0)\n",
      "Note: you may need to restart the kernel to use updated packages.\n"
     ]
    }
   ],
   "source": [
    "%pip install yfinance"
   ]
  },
  {
   "cell_type": "code",
   "execution_count": 21,
   "id": "4a5f39ab",
   "metadata": {},
   "outputs": [
    {
     "data": {
      "text/html": [
       "<div>\n",
       "<style scoped>\n",
       "    .dataframe tbody tr th:only-of-type {\n",
       "        vertical-align: middle;\n",
       "    }\n",
       "\n",
       "    .dataframe tbody tr th {\n",
       "        vertical-align: top;\n",
       "    }\n",
       "\n",
       "    .dataframe thead th {\n",
       "        text-align: right;\n",
       "    }\n",
       "</style>\n",
       "<table border=\"1\" class=\"dataframe\">\n",
       "  <thead>\n",
       "    <tr style=\"text-align: right;\">\n",
       "      <th></th>\n",
       "      <th>Open</th>\n",
       "      <th>High</th>\n",
       "      <th>Low</th>\n",
       "      <th>Close</th>\n",
       "      <th>Volume</th>\n",
       "      <th>Dividends</th>\n",
       "      <th>Stock Splits</th>\n",
       "    </tr>\n",
       "    <tr>\n",
       "      <th>Date</th>\n",
       "      <th></th>\n",
       "      <th></th>\n",
       "      <th></th>\n",
       "      <th></th>\n",
       "      <th></th>\n",
       "      <th></th>\n",
       "      <th></th>\n",
       "    </tr>\n",
       "  </thead>\n",
       "  <tbody>\n",
       "    <tr>\n",
       "      <th>2024-10-29 00:00:00-04:00</th>\n",
       "      <td>264.510010</td>\n",
       "      <td>264.980011</td>\n",
       "      <td>255.509995</td>\n",
       "      <td>259.519989</td>\n",
       "      <td>80521800</td>\n",
       "      <td>0.0</td>\n",
       "      <td>0.0</td>\n",
       "    </tr>\n",
       "    <tr>\n",
       "      <th>2024-10-30 00:00:00-04:00</th>\n",
       "      <td>258.040009</td>\n",
       "      <td>263.350006</td>\n",
       "      <td>255.820007</td>\n",
       "      <td>257.549988</td>\n",
       "      <td>53993600</td>\n",
       "      <td>0.0</td>\n",
       "      <td>0.0</td>\n",
       "    </tr>\n",
       "    <tr>\n",
       "      <th>2024-10-31 00:00:00-04:00</th>\n",
       "      <td>257.989990</td>\n",
       "      <td>259.750000</td>\n",
       "      <td>249.250000</td>\n",
       "      <td>249.850006</td>\n",
       "      <td>66575300</td>\n",
       "      <td>0.0</td>\n",
       "      <td>0.0</td>\n",
       "    </tr>\n",
       "    <tr>\n",
       "      <th>2024-11-01 00:00:00-04:00</th>\n",
       "      <td>252.039993</td>\n",
       "      <td>254.000000</td>\n",
       "      <td>246.630005</td>\n",
       "      <td>248.979996</td>\n",
       "      <td>57544800</td>\n",
       "      <td>0.0</td>\n",
       "      <td>0.0</td>\n",
       "    </tr>\n",
       "    <tr>\n",
       "      <th>2024-11-04 00:00:00-05:00</th>\n",
       "      <td>244.559998</td>\n",
       "      <td>248.899994</td>\n",
       "      <td>238.880005</td>\n",
       "      <td>242.839996</td>\n",
       "      <td>68802400</td>\n",
       "      <td>0.0</td>\n",
       "      <td>0.0</td>\n",
       "    </tr>\n",
       "    <tr>\n",
       "      <th>...</th>\n",
       "      <td>...</td>\n",
       "      <td>...</td>\n",
       "      <td>...</td>\n",
       "      <td>...</td>\n",
       "      <td>...</td>\n",
       "      <td>...</td>\n",
       "      <td>...</td>\n",
       "    </tr>\n",
       "    <tr>\n",
       "      <th>2025-10-22 00:00:00-04:00</th>\n",
       "      <td>443.450012</td>\n",
       "      <td>445.540009</td>\n",
       "      <td>429.000000</td>\n",
       "      <td>438.970001</td>\n",
       "      <td>84023500</td>\n",
       "      <td>0.0</td>\n",
       "      <td>0.0</td>\n",
       "    </tr>\n",
       "    <tr>\n",
       "      <th>2025-10-23 00:00:00-04:00</th>\n",
       "      <td>420.000000</td>\n",
       "      <td>449.399994</td>\n",
       "      <td>413.899994</td>\n",
       "      <td>448.980011</td>\n",
       "      <td>126709800</td>\n",
       "      <td>0.0</td>\n",
       "      <td>0.0</td>\n",
       "    </tr>\n",
       "    <tr>\n",
       "      <th>2025-10-24 00:00:00-04:00</th>\n",
       "      <td>446.829987</td>\n",
       "      <td>451.679993</td>\n",
       "      <td>430.170013</td>\n",
       "      <td>433.720001</td>\n",
       "      <td>94727800</td>\n",
       "      <td>0.0</td>\n",
       "      <td>0.0</td>\n",
       "    </tr>\n",
       "    <tr>\n",
       "      <th>2025-10-27 00:00:00-04:00</th>\n",
       "      <td>439.980011</td>\n",
       "      <td>460.160004</td>\n",
       "      <td>438.690002</td>\n",
       "      <td>452.420013</td>\n",
       "      <td>105867500</td>\n",
       "      <td>0.0</td>\n",
       "      <td>0.0</td>\n",
       "    </tr>\n",
       "    <tr>\n",
       "      <th>2025-10-28 00:00:00-04:00</th>\n",
       "      <td>454.779999</td>\n",
       "      <td>467.000000</td>\n",
       "      <td>451.600006</td>\n",
       "      <td>460.549988</td>\n",
       "      <td>79906500</td>\n",
       "      <td>0.0</td>\n",
       "      <td>0.0</td>\n",
       "    </tr>\n",
       "  </tbody>\n",
       "</table>\n",
       "<p>250 rows × 7 columns</p>\n",
       "</div>"
      ],
      "text/plain": [
       "                                 Open        High         Low       Close  \\\n",
       "Date                                                                        \n",
       "2024-10-29 00:00:00-04:00  264.510010  264.980011  255.509995  259.519989   \n",
       "2024-10-30 00:00:00-04:00  258.040009  263.350006  255.820007  257.549988   \n",
       "2024-10-31 00:00:00-04:00  257.989990  259.750000  249.250000  249.850006   \n",
       "2024-11-01 00:00:00-04:00  252.039993  254.000000  246.630005  248.979996   \n",
       "2024-11-04 00:00:00-05:00  244.559998  248.899994  238.880005  242.839996   \n",
       "...                               ...         ...         ...         ...   \n",
       "2025-10-22 00:00:00-04:00  443.450012  445.540009  429.000000  438.970001   \n",
       "2025-10-23 00:00:00-04:00  420.000000  449.399994  413.899994  448.980011   \n",
       "2025-10-24 00:00:00-04:00  446.829987  451.679993  430.170013  433.720001   \n",
       "2025-10-27 00:00:00-04:00  439.980011  460.160004  438.690002  452.420013   \n",
       "2025-10-28 00:00:00-04:00  454.779999  467.000000  451.600006  460.549988   \n",
       "\n",
       "                              Volume  Dividends  Stock Splits  \n",
       "Date                                                           \n",
       "2024-10-29 00:00:00-04:00   80521800        0.0           0.0  \n",
       "2024-10-30 00:00:00-04:00   53993600        0.0           0.0  \n",
       "2024-10-31 00:00:00-04:00   66575300        0.0           0.0  \n",
       "2024-11-01 00:00:00-04:00   57544800        0.0           0.0  \n",
       "2024-11-04 00:00:00-05:00   68802400        0.0           0.0  \n",
       "...                              ...        ...           ...  \n",
       "2025-10-22 00:00:00-04:00   84023500        0.0           0.0  \n",
       "2025-10-23 00:00:00-04:00  126709800        0.0           0.0  \n",
       "2025-10-24 00:00:00-04:00   94727800        0.0           0.0  \n",
       "2025-10-27 00:00:00-04:00  105867500        0.0           0.0  \n",
       "2025-10-28 00:00:00-04:00   79906500        0.0           0.0  \n",
       "\n",
       "[250 rows x 7 columns]"
      ]
     },
     "execution_count": 21,
     "metadata": {},
     "output_type": "execute_result"
    }
   ],
   "source": [
    "import yfinance  as yf\n",
    "dat = yf.Ticker(\"TSLA\")\n",
    "dat.history(period='1y')\n"
   ]
  },
  {
   "cell_type": "code",
   "execution_count": 1,
   "id": "b5b3610b",
   "metadata": {},
   "outputs": [],
   "source": [
    "# 독립변수, 종속변수 분리\n",
    "# window size : 30(한달치 데이터를 하나의 dataset)\n",
    "# 배치는 3배치\n",
    "# 알고리즘은 RNN "
   ]
  }
 ],
 "metadata": {
  "kernelspec": {
   "display_name": "deep",
   "language": "python",
   "name": "python3"
  },
  "language_info": {
   "codemirror_mode": {
    "name": "ipython",
    "version": 3
   },
   "file_extension": ".py",
   "mimetype": "text/x-python",
   "name": "python",
   "nbconvert_exporter": "python",
   "pygments_lexer": "ipython3",
   "version": "3.10.18"
  }
 },
 "nbformat": 4,
 "nbformat_minor": 5
}
