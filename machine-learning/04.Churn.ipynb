{
 "cells": [
  {
   "cell_type": "markdown",
   "id": "ef8ef439",
   "metadata": {},
   "source": [
    "이탈 고객 예측\n"
   ]
  },
  {
   "cell_type": "markdown",
   "id": "0637bf30",
   "metadata": {},
   "source": [
    "##### 데이터전처리(결측치처리, 클래스 불균형 확인 및 처리)\n",
    "##### 특성공학 - 피처 선정 또는 피처생성\n",
    "##### 베이스 모델선정\n",
    "    - 분류모델 : LogisticRegression\n",
    "    - 클래스 리포트, 과적합여부\n",
    "##### 베이스 모델의 성능을 상회 하는 모델과 하이퍼 파라메터 조합을 찾아서 성능을 출력\n"
   ]
  },
  {
   "cell_type": "code",
   "execution_count": 2,
   "id": "ac2ec24b",
   "metadata": {},
   "outputs": [
    {
     "data": {
      "text/html": [
       "<div>\n",
       "<style scoped>\n",
       "    .dataframe tbody tr th:only-of-type {\n",
       "        vertical-align: middle;\n",
       "    }\n",
       "\n",
       "    .dataframe tbody tr th {\n",
       "        vertical-align: top;\n",
       "    }\n",
       "\n",
       "    .dataframe thead th {\n",
       "        text-align: right;\n",
       "    }\n",
       "</style>\n",
       "<table border=\"1\" class=\"dataframe\">\n",
       "  <thead>\n",
       "    <tr style=\"text-align: right;\">\n",
       "      <th></th>\n",
       "      <th>customerID</th>\n",
       "      <th>gender</th>\n",
       "      <th>SeniorCitizen</th>\n",
       "      <th>Partner</th>\n",
       "      <th>Dependents</th>\n",
       "      <th>tenure</th>\n",
       "      <th>PhoneService</th>\n",
       "      <th>MultipleLines</th>\n",
       "      <th>InternetService</th>\n",
       "      <th>OnlineSecurity</th>\n",
       "      <th>...</th>\n",
       "      <th>DeviceProtection</th>\n",
       "      <th>TechSupport</th>\n",
       "      <th>StreamingTV</th>\n",
       "      <th>StreamingMovies</th>\n",
       "      <th>Contract</th>\n",
       "      <th>PaperlessBilling</th>\n",
       "      <th>PaymentMethod</th>\n",
       "      <th>MonthlyCharges</th>\n",
       "      <th>TotalCharges</th>\n",
       "      <th>Churn</th>\n",
       "    </tr>\n",
       "  </thead>\n",
       "  <tbody>\n",
       "    <tr>\n",
       "      <th>0</th>\n",
       "      <td>7590-VHVEG</td>\n",
       "      <td>Female</td>\n",
       "      <td>0</td>\n",
       "      <td>Yes</td>\n",
       "      <td>No</td>\n",
       "      <td>1</td>\n",
       "      <td>No</td>\n",
       "      <td>No phone service</td>\n",
       "      <td>DSL</td>\n",
       "      <td>No</td>\n",
       "      <td>...</td>\n",
       "      <td>No</td>\n",
       "      <td>No</td>\n",
       "      <td>No</td>\n",
       "      <td>No</td>\n",
       "      <td>Month-to-month</td>\n",
       "      <td>Yes</td>\n",
       "      <td>Electronic check</td>\n",
       "      <td>29.85</td>\n",
       "      <td>29.85</td>\n",
       "      <td>No</td>\n",
       "    </tr>\n",
       "    <tr>\n",
       "      <th>1</th>\n",
       "      <td>5575-GNVDE</td>\n",
       "      <td>Male</td>\n",
       "      <td>0</td>\n",
       "      <td>No</td>\n",
       "      <td>No</td>\n",
       "      <td>34</td>\n",
       "      <td>Yes</td>\n",
       "      <td>No</td>\n",
       "      <td>DSL</td>\n",
       "      <td>Yes</td>\n",
       "      <td>...</td>\n",
       "      <td>Yes</td>\n",
       "      <td>No</td>\n",
       "      <td>No</td>\n",
       "      <td>No</td>\n",
       "      <td>One year</td>\n",
       "      <td>No</td>\n",
       "      <td>Mailed check</td>\n",
       "      <td>56.95</td>\n",
       "      <td>1889.5</td>\n",
       "      <td>No</td>\n",
       "    </tr>\n",
       "    <tr>\n",
       "      <th>2</th>\n",
       "      <td>3668-QPYBK</td>\n",
       "      <td>Male</td>\n",
       "      <td>0</td>\n",
       "      <td>No</td>\n",
       "      <td>No</td>\n",
       "      <td>2</td>\n",
       "      <td>Yes</td>\n",
       "      <td>No</td>\n",
       "      <td>DSL</td>\n",
       "      <td>Yes</td>\n",
       "      <td>...</td>\n",
       "      <td>No</td>\n",
       "      <td>No</td>\n",
       "      <td>No</td>\n",
       "      <td>No</td>\n",
       "      <td>Month-to-month</td>\n",
       "      <td>Yes</td>\n",
       "      <td>Mailed check</td>\n",
       "      <td>53.85</td>\n",
       "      <td>108.15</td>\n",
       "      <td>Yes</td>\n",
       "    </tr>\n",
       "    <tr>\n",
       "      <th>3</th>\n",
       "      <td>7795-CFOCW</td>\n",
       "      <td>Male</td>\n",
       "      <td>0</td>\n",
       "      <td>No</td>\n",
       "      <td>No</td>\n",
       "      <td>45</td>\n",
       "      <td>No</td>\n",
       "      <td>No phone service</td>\n",
       "      <td>DSL</td>\n",
       "      <td>Yes</td>\n",
       "      <td>...</td>\n",
       "      <td>Yes</td>\n",
       "      <td>Yes</td>\n",
       "      <td>No</td>\n",
       "      <td>No</td>\n",
       "      <td>One year</td>\n",
       "      <td>No</td>\n",
       "      <td>Bank transfer (automatic)</td>\n",
       "      <td>42.30</td>\n",
       "      <td>1840.75</td>\n",
       "      <td>No</td>\n",
       "    </tr>\n",
       "    <tr>\n",
       "      <th>4</th>\n",
       "      <td>9237-HQITU</td>\n",
       "      <td>Female</td>\n",
       "      <td>0</td>\n",
       "      <td>No</td>\n",
       "      <td>No</td>\n",
       "      <td>2</td>\n",
       "      <td>Yes</td>\n",
       "      <td>No</td>\n",
       "      <td>Fiber optic</td>\n",
       "      <td>No</td>\n",
       "      <td>...</td>\n",
       "      <td>No</td>\n",
       "      <td>No</td>\n",
       "      <td>No</td>\n",
       "      <td>No</td>\n",
       "      <td>Month-to-month</td>\n",
       "      <td>Yes</td>\n",
       "      <td>Electronic check</td>\n",
       "      <td>70.70</td>\n",
       "      <td>151.65</td>\n",
       "      <td>Yes</td>\n",
       "    </tr>\n",
       "  </tbody>\n",
       "</table>\n",
       "<p>5 rows × 21 columns</p>\n",
       "</div>"
      ],
      "text/plain": [
       "   customerID  gender  SeniorCitizen Partner Dependents  tenure PhoneService  \\\n",
       "0  7590-VHVEG  Female              0     Yes         No       1           No   \n",
       "1  5575-GNVDE    Male              0      No         No      34          Yes   \n",
       "2  3668-QPYBK    Male              0      No         No       2          Yes   \n",
       "3  7795-CFOCW    Male              0      No         No      45           No   \n",
       "4  9237-HQITU  Female              0      No         No       2          Yes   \n",
       "\n",
       "      MultipleLines InternetService OnlineSecurity  ... DeviceProtection  \\\n",
       "0  No phone service             DSL             No  ...               No   \n",
       "1                No             DSL            Yes  ...              Yes   \n",
       "2                No             DSL            Yes  ...               No   \n",
       "3  No phone service             DSL            Yes  ...              Yes   \n",
       "4                No     Fiber optic             No  ...               No   \n",
       "\n",
       "  TechSupport StreamingTV StreamingMovies        Contract PaperlessBilling  \\\n",
       "0          No          No              No  Month-to-month              Yes   \n",
       "1          No          No              No        One year               No   \n",
       "2          No          No              No  Month-to-month              Yes   \n",
       "3         Yes          No              No        One year               No   \n",
       "4          No          No              No  Month-to-month              Yes   \n",
       "\n",
       "               PaymentMethod MonthlyCharges  TotalCharges Churn  \n",
       "0           Electronic check          29.85         29.85    No  \n",
       "1               Mailed check          56.95        1889.5    No  \n",
       "2               Mailed check          53.85        108.15   Yes  \n",
       "3  Bank transfer (automatic)          42.30       1840.75    No  \n",
       "4           Electronic check          70.70        151.65   Yes  \n",
       "\n",
       "[5 rows x 21 columns]"
      ]
     },
     "execution_count": 2,
     "metadata": {},
     "output_type": "execute_result"
    }
   ],
   "source": [
    "import pandas as pd\n",
    "url  = 'https://raw.githubusercontent.com/pia222sk20/python/refs/heads/main/data/tellecom.csv'\n",
    "df = pd.read_csv(url)\n",
    "df.head()"
   ]
  },
  {
   "cell_type": "markdown",
   "id": "3c63d1df",
   "metadata": {},
   "source": [
    "| 컬럼명                  | 설명                                                                         |\n",
    "| :------------------- | :------------------------------------------------------------------------- |\n",
    "| **customerID**       | 고객 고유 ID (식별용, 모델에서는 제외)                                                   |\n",
    "| **gender**           | 성별 (‘Male’, ‘Female’)                                                      |\n",
    "| **SeniorCitizen**    | 노년층 여부 (0=아님, 1=노년층)                                                       |\n",
    "| **Partner**          | 배우자 유무 (‘Yes’, ‘No’)                                                       |\n",
    "| **Dependents**       | 부양가족 여부 (‘Yes’, ‘No’)                                                      |\n",
    "| **tenure**           | 가입 기간 (개월 단위)                                                              |\n",
    "| **PhoneService**     | 전화 서비스 사용 여부 (‘Yes’, ‘No’)                                                 |\n",
    "| **MultipleLines**    | 다중 회선 여부 (‘Yes’, ‘No’, ‘No phone service’)                                 |\n",
    "| **InternetService**  | 인터넷 서비스 종류 (‘DSL’, ‘Fiber optic’, ‘No’)                                    |\n",
    "| **OnlineSecurity**   | 온라인 보안 서비스 (‘Yes’, ‘No’, ‘No internet service’)                            |\n",
    "| **OnlineBackup**     | 온라인 백업 서비스 (‘Yes’, ‘No’, ‘No internet service’)                            |\n",
    "| **DeviceProtection** | 기기 보호 서비스 (‘Yes’, ‘No’, ‘No internet service’)                             |\n",
    "| **TechSupport**      | 기술 지원 서비스 (‘Yes’, ‘No’, ‘No internet service’)                             |\n",
    "| **StreamingTV**      | TV 스트리밍 서비스 사용 (‘Yes’, ‘No’, ‘No internet service’)                        |\n",
    "| **StreamingMovies**  | 영화 스트리밍 서비스 (‘Yes’, ‘No’, ‘No internet service’)                           |\n",
    "| **Contract**         | 계약 형태 (‘Month-to-month’, ‘One year’, ‘Two year’)                           |\n",
    "| **PaperlessBilling** | 전자 청구서 여부 (‘Yes’, ‘No’)                                                    |\n",
    "| **PaymentMethod**    | 납부 방식 (‘Electronic check’, ‘Mailed check’, ‘Bank transfer’, ‘Credit card’) |\n",
    "| **MonthlyCharges**   | 월 요금                                                                       |\n",
    "| **TotalCharges**     | 총 요금 (가입 기간 * 월 요금에 비례)                                                    |\n",
    "| **Churn**            | 💡 **타깃 컬럼 (이탈 여부)** — ‘Yes’면 이탈, ‘No’면 유지                                 |\n"
   ]
  },
  {
   "cell_type": "code",
   "execution_count": 3,
   "id": "c2c46307",
   "metadata": {},
   "outputs": [
    {
     "data": {
      "text/plain": [
       "Index(['customerID', 'gender', 'SeniorCitizen', 'Partner', 'Dependents',\n",
       "       'tenure', 'PhoneService', 'MultipleLines', 'InternetService',\n",
       "       'OnlineSecurity', 'OnlineBackup', 'DeviceProtection', 'TechSupport',\n",
       "       'StreamingTV', 'StreamingMovies', 'Contract', 'PaperlessBilling',\n",
       "       'PaymentMethod', 'MonthlyCharges', 'TotalCharges', 'Churn'],\n",
       "      dtype='object')"
      ]
     },
     "execution_count": 3,
     "metadata": {},
     "output_type": "execute_result"
    }
   ],
   "source": [
    "df.columns\n",
    "# column명 확인"
   ]
  },
  {
   "cell_type": "code",
   "execution_count": 4,
   "id": "41da1484",
   "metadata": {},
   "outputs": [
    {
     "data": {
      "text/plain": [
       "Churn\n",
       "No     0.73463\n",
       "Yes    0.26537\n",
       "Name: proportion, dtype: float64"
      ]
     },
     "execution_count": 4,
     "metadata": {},
     "output_type": "execute_result"
    }
   ],
   "source": [
    "#결측치확인\n",
    "df.isnull().sum() #전체요약\n",
    "#결측치는 없음\n",
    "\n",
    "#클래스 불균형\n",
    "df['Churn'].value_counts(normalize=True)\n",
    "#이탈안한 고객 73% 이탈한 고객 27% 불균형 데이터임"
   ]
  },
  {
   "cell_type": "code",
   "execution_count": 5,
   "id": "6227339e",
   "metadata": {},
   "outputs": [
    {
     "name": "stdout",
     "output_type": "stream",
     "text": [
      "Requirement already satisfied: imbalanced-learn in c:\\users\\playdata2\\miniconda3\\envs\\deep\\lib\\site-packages (0.14.0)\n",
      "Requirement already satisfied: numpy<3,>=1.25.2 in c:\\users\\playdata2\\miniconda3\\envs\\deep\\lib\\site-packages (from imbalanced-learn) (2.2.6)\n",
      "Requirement already satisfied: scipy<2,>=1.11.4 in c:\\users\\playdata2\\miniconda3\\envs\\deep\\lib\\site-packages (from imbalanced-learn) (1.15.3)\n",
      "Requirement already satisfied: scikit-learn<2,>=1.4.2 in c:\\users\\playdata2\\miniconda3\\envs\\deep\\lib\\site-packages (from imbalanced-learn) (1.7.1)\n",
      "Requirement already satisfied: joblib<2,>=1.2.0 in c:\\users\\playdata2\\miniconda3\\envs\\deep\\lib\\site-packages (from imbalanced-learn) (1.5.2)\n",
      "Requirement already satisfied: threadpoolctl<4,>=2.0.0 in c:\\users\\playdata2\\miniconda3\\envs\\deep\\lib\\site-packages (from imbalanced-learn) (3.5.0)\n",
      "Note: you may need to restart the kernel to use updated packages.\n"
     ]
    }
   ],
   "source": [
    "%pip install imbalanced-learn\n"
   ]
  },
  {
   "cell_type": "code",
   "execution_count": 7,
   "id": "58ed38ad",
   "metadata": {},
   "outputs": [
    {
     "name": "stdout",
     "output_type": "stream",
     "text": [
      "<class 'pandas.core.frame.DataFrame'>\n",
      "RangeIndex: 7043 entries, 0 to 7042\n",
      "Data columns (total 21 columns):\n",
      " #   Column            Non-Null Count  Dtype  \n",
      "---  ------            --------------  -----  \n",
      " 0   customerID        7043 non-null   object \n",
      " 1   gender            7043 non-null   object \n",
      " 2   SeniorCitizen     7043 non-null   int64  \n",
      " 3   Partner           7043 non-null   object \n",
      " 4   Dependents        7043 non-null   object \n",
      " 5   tenure            7043 non-null   int64  \n",
      " 6   PhoneService      7043 non-null   object \n",
      " 7   MultipleLines     7043 non-null   object \n",
      " 8   InternetService   7043 non-null   object \n",
      " 9   OnlineSecurity    7043 non-null   object \n",
      " 10  OnlineBackup      7043 non-null   object \n",
      " 11  DeviceProtection  7043 non-null   object \n",
      " 12  TechSupport       7043 non-null   object \n",
      " 13  StreamingTV       7043 non-null   object \n",
      " 14  StreamingMovies   7043 non-null   object \n",
      " 15  Contract          7043 non-null   object \n",
      " 16  PaperlessBilling  7043 non-null   object \n",
      " 17  PaymentMethod     7043 non-null   object \n",
      " 18  MonthlyCharges    7043 non-null   float64\n",
      " 19  TotalCharges      7043 non-null   object \n",
      " 20  Churn             7043 non-null   object \n",
      "dtypes: float64(1), int64(2), object(18)\n",
      "memory usage: 1.1+ MB\n",
      "None\n",
      "customerID          0\n",
      "gender              0\n",
      "SeniorCitizen       0\n",
      "Partner             0\n",
      "Dependents          0\n",
      "tenure              0\n",
      "PhoneService        0\n",
      "MultipleLines       0\n",
      "InternetService     0\n",
      "OnlineSecurity      0\n",
      "OnlineBackup        0\n",
      "DeviceProtection    0\n",
      "TechSupport         0\n",
      "StreamingTV         0\n",
      "StreamingMovies     0\n",
      "Contract            0\n",
      "PaperlessBilling    0\n",
      "PaymentMethod       0\n",
      "MonthlyCharges      0\n",
      "TotalCharges        0\n",
      "Churn               0\n",
      "dtype: int64\n"
     ]
    }
   ],
   "source": [
    "# 결측치 타입확인\n",
    "print(df.info())\n",
    "print(df.isnull().sum())\n",
    "#totalcharges가 object가 아닌데 object로 되어있음, \n"
   ]
  },
  {
   "cell_type": "code",
   "execution_count": 8,
   "id": "cac90c05",
   "metadata": {},
   "outputs": [
    {
     "data": {
      "text/plain": [
       "customerID          0\n",
       "gender              0\n",
       "SeniorCitizen       0\n",
       "Partner             0\n",
       "Dependents          0\n",
       "tenure              0\n",
       "PhoneService        0\n",
       "MultipleLines       0\n",
       "InternetService     0\n",
       "OnlineSecurity      0\n",
       "OnlineBackup        0\n",
       "DeviceProtection    0\n",
       "TechSupport         0\n",
       "StreamingTV         0\n",
       "StreamingMovies     0\n",
       "Contract            0\n",
       "PaperlessBilling    0\n",
       "PaymentMethod       0\n",
       "MonthlyCharges      0\n",
       "TotalCharges        0\n",
       "Churn               0\n",
       "dtype: int64"
      ]
     },
     "execution_count": 8,
     "metadata": {},
     "output_type": "execute_result"
    }
   ],
   "source": [
    "# 각 컬럼의 결측치 개수\n",
    "df.isnull().sum()"
   ]
  },
  {
   "cell_type": "code",
   "execution_count": 24,
   "id": "dedcc4e0",
   "metadata": {},
   "outputs": [
    {
     "name": "stdout",
     "output_type": "stream",
     "text": [
      "object\n",
      "<class 'pandas.core.frame.DataFrame'>\n",
      "RangeIndex: 7043 entries, 0 to 7042\n",
      "Data columns (total 21 columns):\n",
      " #   Column            Non-Null Count  Dtype  \n",
      "---  ------            --------------  -----  \n",
      " 0   customerID        7043 non-null   object \n",
      " 1   gender            7043 non-null   object \n",
      " 2   SeniorCitizen     7043 non-null   int64  \n",
      " 3   Partner           7043 non-null   object \n",
      " 4   Dependents        7043 non-null   object \n",
      " 5   tenure            7043 non-null   int64  \n",
      " 6   PhoneService      7043 non-null   object \n",
      " 7   MultipleLines     7043 non-null   object \n",
      " 8   InternetService   7043 non-null   object \n",
      " 9   OnlineSecurity    7043 non-null   object \n",
      " 10  OnlineBackup      7043 non-null   object \n",
      " 11  DeviceProtection  7043 non-null   object \n",
      " 12  TechSupport       7043 non-null   object \n",
      " 13  StreamingTV       7043 non-null   object \n",
      " 14  StreamingMovies   7043 non-null   object \n",
      " 15  Contract          7043 non-null   object \n",
      " 16  PaperlessBilling  7043 non-null   object \n",
      " 17  PaymentMethod     7043 non-null   object \n",
      " 18  MonthlyCharges    7043 non-null   float64\n",
      " 19  TotalCharges      7043 non-null   object \n",
      " 20  Churn             7043 non-null   object \n",
      "dtypes: float64(1), int64(2), object(18)\n",
      "memory usage: 1.1+ MB\n"
     ]
    }
   ],
   "source": [
    "# origin 열의 문자열 자료형을 범주형으로 변환\n",
    "df['TotalCharges'] = df['TotalCharges'].astype('str')     \n",
    "print(df['TotalCharges'].dtypes) \n",
    "#다시 확인\n",
    "df.info()\n",
    "\n",
    "df[\"TotalCharges\"] = pd.to_numeric(df[\"TotalCharges\"], errors=\"coerce\")"
   ]
  },
  {
   "cell_type": "code",
   "execution_count": 10,
   "id": "5fe2a948",
   "metadata": {},
   "outputs": [],
   "source": [
    "#결측치 대체\n",
    "df[\"TotalCharges\"] = df[\"TotalCharges\"].fillna(df[\"MonthlyCharges\"] * df[\"tenure\"])"
   ]
  },
  {
   "cell_type": "code",
   "execution_count": 11,
   "id": "19d26ec0",
   "metadata": {},
   "outputs": [
    {
     "name": "stdout",
     "output_type": "stream",
     "text": [
      "<class 'pandas.core.frame.DataFrame'>\n",
      "RangeIndex: 7043 entries, 0 to 7042\n",
      "Data columns (total 21 columns):\n",
      " #   Column            Non-Null Count  Dtype  \n",
      "---  ------            --------------  -----  \n",
      " 0   customerID        7043 non-null   object \n",
      " 1   gender            7043 non-null   object \n",
      " 2   SeniorCitizen     7043 non-null   int64  \n",
      " 3   Partner           7043 non-null   object \n",
      " 4   Dependents        7043 non-null   object \n",
      " 5   tenure            7043 non-null   int64  \n",
      " 6   PhoneService      7043 non-null   object \n",
      " 7   MultipleLines     7043 non-null   object \n",
      " 8   InternetService   7043 non-null   object \n",
      " 9   OnlineSecurity    7043 non-null   object \n",
      " 10  OnlineBackup      7043 non-null   object \n",
      " 11  DeviceProtection  7043 non-null   object \n",
      " 12  TechSupport       7043 non-null   object \n",
      " 13  StreamingTV       7043 non-null   object \n",
      " 14  StreamingMovies   7043 non-null   object \n",
      " 15  Contract          7043 non-null   object \n",
      " 16  PaperlessBilling  7043 non-null   object \n",
      " 17  PaymentMethod     7043 non-null   object \n",
      " 18  MonthlyCharges    7043 non-null   float64\n",
      " 19  TotalCharges      7043 non-null   float64\n",
      " 20  Churn             7043 non-null   object \n",
      "dtypes: float64(2), int64(2), object(17)\n",
      "memory usage: 1.1+ MB\n"
     ]
    }
   ],
   "source": [
    "df.info()"
   ]
  },
  {
   "cell_type": "code",
   "execution_count": 12,
   "id": "f2694a53",
   "metadata": {},
   "outputs": [],
   "source": [
    "from sklearn.preprocessing import StandardScaler\n",
    "from sklearn.datasets import make_classification\n",
    "from sklearn.model_selection import train_test_split \n",
    "from sklearn.metrics import classification_report\n",
    "from imblearn.over_sampling import SMOTE\n",
    "import pandas as pd\n",
    "import numpy as np\n",
    "\n",
    "# 데이터 로드\n",
    "url = \"https://raw.githubusercontent.com/pia222sk20/python/refs/heads/main/data/tellecom.csv\"\n",
    "df = pd.read_csv(url)\n",
    "\n",
    "# y = Churn, X = 나머지\n",
    "target = \"Churn\"\n",
    "\n",
    "# 불필요한 컬럼 제거\n",
    "drop_cols = [\"customerID\"]\n",
    "num_cols = [\"tenure\", \"MonthlyCharges\", \"TotalCharges\"]\n",
    "cat_cols = [\n",
    "    \"gender\",\"SeniorCitizen\",\"Partner\",\"Dependents\",\"PhoneService\",\"MultipleLines\",\n",
    "    \"InternetService\",\"OnlineSecurity\",\"OnlineBackup\",\"DeviceProtection\",\"TechSupport\",\n",
    "    \"StreamingTV\",\"StreamingMovies\",\"Contract\",\"PaperlessBilling\",\"PaymentMethod\"]\n"
   ]
  },
  {
   "cell_type": "code",
   "execution_count": 14,
   "id": "58420e08",
   "metadata": {},
   "outputs": [
    {
     "name": "stdout",
     "output_type": "stream",
     "text": [
      "X_ready shape: (7043, 46)\n",
      "Train/Test: (5634, 46) (1409, 46)\n",
      "y 분포(Train):\n",
      "Churn\n",
      "No     0.735\n",
      "Yes    0.265\n",
      "Name: proportion, dtype: float64\n"
     ]
    }
   ],
   "source": [
    "X = df.drop(columns=drop_cols + [target]).copy()\n",
    "y = df[target].copy()\n",
    "\n",
    "X[\"TotalCharges\"] = pd.to_numeric(X[\"TotalCharges\"].astype(str), errors=\"coerce\")\n",
    "X[\"TotalCharges\"] = X[\"TotalCharges\"].fillna(X[\"MonthlyCharges\"] * X[\"tenure\"])\n",
    "\n",
    "X_num = X[num_cols].copy()\n",
    "X_cat = X[cat_cols].copy()\n",
    "\n",
    "X_cat = X_cat.astype(\"string\").fillna(\"Unknown\")\n",
    "X_cat_ohe = pd.get_dummies(X_cat, drop_first=False, dtype=np.float64)\n",
    "\n",
    "scaler = StandardScaler()\n",
    "X_num_scaled = pd.DataFrame(\n",
    "    scaler.fit_transform(X_num),\n",
    "    columns=X_num.columns,\n",
    "    index=X_num.index\n",
    ")\n",
    "\n",
    "#합산\n",
    "X1 = pd.concat([X_num_scaled, X_cat_ohe], axis=1)\n",
    "\n",
    "# 7) 학습/검증 분리\n",
    "X_train, X_test, y_train, y_test = train_test_split(\n",
    "    X1, y, test_size=0.2, random_state=42, stratify=y\n",
    ")\n",
    "\n",
    "print(\"X_ready shape:\", X1.shape)\n",
    "print(\"Train/Test:\", X_train.shape, X_test.shape)\n",
    "print(\"y 분포(Train):\")\n",
    "print(y_train.value_counts(normalize=True).round(3))"
   ]
  },
  {
   "cell_type": "code",
   "execution_count": 15,
   "id": "03504f6c",
   "metadata": {},
   "outputs": [
    {
     "name": "stdout",
     "output_type": "stream",
     "text": [
      "   AvgChargePerMonth  ServiceCount  HasInternet\n",
      "0          29.850000             1            1\n",
      "1          55.573529             2            1\n",
      "2          54.075000             2            1\n",
      "3          40.905556             3            1\n",
      "4          75.825000             0            1\n"
     ]
    }
   ],
   "source": [
    "# 피처 생성 단계\n",
    "X = X.copy()\n",
    "\n",
    "# 1. 월평균 요금\n",
    "X[\"AvgChargePerMonth\"] = X[\"TotalCharges\"] / X[\"tenure\"].replace(0, np.nan)\n",
    "\n",
    "# 2. 여러 서비스 사용 개수\n",
    "service_cols = [\"OnlineSecurity\",\"OnlineBackup\",\"DeviceProtection\",\"TechSupport\",\"StreamingTV\",\"StreamingMovies\"]\n",
    "X[\"ServiceCount\"] = (X[service_cols] == \"Yes\").sum(axis=1)\n",
    "\n",
    "# 3. 인터넷 가입 여부\n",
    "X[\"HasInternet\"] = (X[\"InternetService\"] != \"No\").astype(int)\n",
    "\n",
    "# 확인\n",
    "print(X[[\"AvgChargePerMonth\",\"ServiceCount\",\"HasInternet\"]].head())\n"
   ]
  },
  {
   "cell_type": "code",
   "execution_count": 16,
   "id": "538dc831",
   "metadata": {},
   "outputs": [
    {
     "name": "stdout",
     "output_type": "stream",
     "text": [
      "                     tenure  MonthlyCharges  TotalCharges  AvgChargePerMonth  \\\n",
      "tenure             1.000000        0.247900      0.826178           0.246198   \n",
      "MonthlyCharges     0.247900        1.000000      0.651174           0.996237   \n",
      "TotalCharges       0.826178        0.651174      1.000000           0.650915   \n",
      "AvgChargePerMonth  0.246198        0.996237      0.650915           1.000000   \n",
      "ServiceCount       0.494263        0.724706      0.744827           0.722902   \n",
      "\n",
      "                   ServiceCount  \n",
      "tenure                 0.494263  \n",
      "MonthlyCharges         0.724706  \n",
      "TotalCharges           0.744827  \n",
      "AvgChargePerMonth      0.722902  \n",
      "ServiceCount           1.000000  \n"
     ]
    }
   ],
   "source": [
    "# 수치형 변수만 뽑기\n",
    "num_cols = [\"tenure\",\"MonthlyCharges\",\"TotalCharges\",\"AvgChargePerMonth\",\"ServiceCount\"]\n",
    "\n",
    "# 상관관계 확인\n",
    "corr = X[num_cols].corr()\n",
    "print(corr)\n"
   ]
  }
 ],
 "metadata": {
  "kernelspec": {
   "display_name": "deep",
   "language": "python",
   "name": "python3"
  },
  "language_info": {
   "codemirror_mode": {
    "name": "ipython",
    "version": 3
   },
   "file_extension": ".py",
   "mimetype": "text/x-python",
   "name": "python",
   "nbconvert_exporter": "python",
   "pygments_lexer": "ipython3",
   "version": "3.10.18"
  }
 },
 "nbformat": 4,
 "nbformat_minor": 5
}
