{
 "cells": [
  {
   "cell_type": "code",
   "execution_count": null,
   "id": "1b24a40b",
   "metadata": {},
   "outputs": [],
   "source": [
    "#데이터 전처리\n",
    "    #결측치 : 제거하거나 대처(평균,중위수, 주변데이터를 이용... 다양한 알고리즘)\n",
    "    #클래스 불균형: over, down sampling SMOTE SMOTEEN\n",
    "#데이터 특성공학 : 연속형->범주형,시간정보는 1-2, 23-0\n",
    "    #범주형을 숫자 숫자사이에 연관성이 있으면 이것도 학습\n",
    "    #연관성이 전혀 없는 범주형 라벨링 -onehot\n",
    "    #범주형이지만 순서나 크기가 있는 범주형은 라벨링 그대로 유지\n",
    "#머신런닝\n",
    "#지도학습\n",
    "    #회귀: linearRegression, \n",
    "    #분류:\n",
    "        #svm, kNeighbors, decisionTree, \n",
    "#비지도학습\n",
    "    #클러스터\n",
    "        #kmeans(거리기반 가까운거) dbscan\n",
    "\n"
   ]
  }
 ],
 "metadata": {
  "kernelspec": {
   "display_name": "deep",
   "language": "python",
   "name": "python3"
  },
  "language_info": {
   "name": "python",
   "version": "3.10.18"
  }
 },
 "nbformat": 4,
 "nbformat_minor": 5
}
