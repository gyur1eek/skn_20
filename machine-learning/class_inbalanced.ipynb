{
 "cells": [
  {
   "cell_type": "markdown",
   "id": "b458adbb",
   "metadata": {},
   "source": [
    "#### 불균형 클래스\n",
    "#### 클래스 불균형에 대한 이해\n",
    "#### 클래스 가중치 사용\n",
    "#### 리샘플링 기법\n",
    "#### 적절한 평가지표"
   ]
  },
  {
   "cell_type": "code",
   "execution_count": null,
   "id": "18ec25ff",
   "metadata": {},
   "outputs": [
    {
     "name": "stdout",
     "output_type": "stream",
     "text": [
      " 악성 양성의 오리지널 비율 : (array([0, 1]), array([212, 357]))\n",
      "클래스 분포\n",
      "클래스 0 : 21개 (5.6%)\n",
      "클래스 1 : 357개 (94.4%)\n",
      "1. 기본모델(불균형무시)\n",
      "              precision    recall  f1-score   support\n",
      "\n",
      "       악성(0)       1.00      1.00      1.00         4\n",
      "       양성(1)       1.00      1.00      1.00        72\n",
      "\n",
      "    accuracy                           1.00        76\n",
      "   macro avg       1.00      1.00      1.00        76\n",
      "weighted avg       1.00      1.00      1.00        76\n",
      "\n"
     ]
    }
   ],
   "source": [
    "# 불균형 데이터 생성(1:9)  악성: 생성\n",
    "from sklearn.datasets import load_breast_cancer\n",
    "import numpy as np\n",
    "from sklearn.pipeline import Pipeline\n",
    "np.random.seed(42) #np이용한 데이터 바뀌어서 42로 고정 np쓰기전에 고정 \n",
    "data = load_breast_cancer()\n",
    "X,y = data.data, data.target\n",
    "#악성을 소수 클래스로 생성\n",
    "#pandasdml value_counts역할하는거 np.unique\n",
    "print(f' 악성 양성의 오리지널 비율 : {np.unique(y,return_counts=True)}')\n",
    "m_index = np.where(y == 0)[0] #where은 필터링 0이 되는index를 반환 index위치에 해당하는 x 가지고 오기 위해서 #index\n",
    "b_index = np.where(y == 1)[0]\n",
    "\n",
    "#악성은 일부만, 양성은 더 많이 사용\n",
    "# 악성의 30%만 사용\n",
    "size_30 = int(len(m_index) *0.1)\n",
    "selected_m_index = np.random.choice(m_index, size=size_30,replace = False) # 임의로 랜덤하게 뽑아주는거 \n",
    "selected_b_index = b_index\n",
    "\n",
    "concatenate_selected_index = np.concatenate([selected_m_index,selected_b_index])\n",
    "np.random.shuffle(concatenate_selected_index) #return값 없다 출력하면 바뀜\n",
    "\n",
    "X_imb =X[concatenate_selected_index]\n",
    "y_imb =y[concatenate_selected_index]\n",
    "\n",
    "#클래스 분포 확인\n",
    "unique,counts = np.unique(y_imb,return_counts = True)\n",
    "print('클래스 분포')\n",
    "for label, count in zip(unique, counts):\n",
    "    percentage = count / len(y_imb) *100\n",
    "    print(f'클래스 {label} : {count}개 ({percentage:.1f}%)')\n",
    "\n",
    "# 불균형인 상태로 진행\n",
    "# 스케일링 정규화 StandardScaler\n",
    "# LogisticRegression\n",
    "# pipe\n",
    "# 평가는 class report\n",
    "from sklearn.preprocessing import StandardScaler\n",
    "from sklearn.linear_model import LogisticRegression\n",
    "from sklearn.model_selection import train_test_split\n",
    "from sklearn.metrics import classification_report\n",
    "X_train,X_test,y_train,y_test = train_test_split(X_imb,y_imb,stratify=y_imb, test_size=0.2, random_state=42)\n",
    "print('1. 기본모델(불균형무시)')\n",
    "pipe = Pipeline([\n",
    "    ('scaler',StandardScaler()),\n",
    "    ('clf', LogisticRegression(random_state=42,max_iter=1000))\n",
    "])\n",
    "pipe.fit(X_train,y_train)\n",
    "print(classification_report(y_test, pipe.predict(X_test),target_names=['악성(0)','양성(1)']))"
   ]
  },
  {
   "cell_type": "code",
   "execution_count": 32,
   "id": "89fde83b",
   "metadata": {},
   "outputs": [
    {
     "name": "stdout",
     "output_type": "stream",
     "text": [
      "불균형 해결 : 클래스 가중치 사용\n",
      "              precision    recall  f1-score   support\n",
      "\n",
      "           0       0.80      1.00      0.89         4\n",
      "           1       1.00      0.99      0.99        72\n",
      "\n",
      "    accuracy                           0.99        76\n",
      "   macro avg       0.90      0.99      0.94        76\n",
      "weighted avg       0.99      0.99      0.99        76\n",
      "\n",
      "가중치 계산\n",
      "클래스: 0 : 8.882\n",
      "클래스: 1 : 0.530\n"
     ]
    }
   ],
   "source": [
    "print('불균형 해결 : 클래스 가중치 사용')\n",
    "# 기존파이프라인의 clf이름의 객체의 파라메터를 조정\n",
    "from copy import deepcopy\n",
    "pipe_weight = deepcopy(pipe)\n",
    "pipe_weight.set_params(clf__class_weight = 'balanced')\n",
    "pipe_weight.fit(X_train, y_train)\n",
    "print(classification_report(y_test,pipe_weight.predict(X_test)))\n",
    "\n",
    "print(\"가중치 계산\")\n",
    "n_samples = len(y_train)\n",
    "n_classes = 2\n",
    "class_counts = np.bincount(y_train)\n",
    "for i in range(n_classes):\n",
    "    weight = n_samples / (n_classes * class_counts[i])\n",
    "    print(f'클래스: {i} : {weight:.3f}')"
   ]
  },
  {
   "cell_type": "code",
   "execution_count": 35,
   "id": "47f4a626",
   "metadata": {},
   "outputs": [
    {
     "name": "stdout",
     "output_type": "stream",
     "text": [
      "불균형: 랜덤포레스트( 균형모드)\n",
      "              precision    recall  f1-score   support\n",
      "\n",
      "           0       1.00      0.50      0.67         4\n",
      "           1       0.97      1.00      0.99        72\n",
      "\n",
      "    accuracy                           0.97        76\n",
      "   macro avg       0.99      0.75      0.83        76\n",
      "weighted avg       0.97      0.97      0.97        76\n",
      "\n"
     ]
    }
   ],
   "source": [
    "from sklearn.ensemble import RandomForestClassifier\n",
    "print('불균형: 랜덤포레스트( 균형모드)')\n",
    "pipe_rf = Pipeline([\n",
    "    ('scaler',StandardScaler()),\n",
    "    ('clf',RandomForestClassifier(class_weight='balanced',random_state=42))\n",
    "])\n",
    "pipe_rf.fit(X_train, y_train)\n",
    "y_pred = pipe_rf.predict(X_test)\n",
    "print(classification_report(y_test,y_pred))"
   ]
  },
  {
   "cell_type": "code",
   "execution_count": null,
   "id": "b73e824d",
   "metadata": {},
   "outputs": [],
   "source": [
    "# 오버 or 언더샘플링 - 직접 실행.. SMOTE SMOTEEN 과적합이 일어나고 있는데 해결\n"
   ]
  },
  {
   "cell_type": "code",
   "execution_count": null,
   "id": "9afba03e",
   "metadata": {},
   "outputs": [],
   "source": []
  }
 ],
 "metadata": {
  "kernelspec": {
   "display_name": "deep",
   "language": "python",
   "name": "python3"
  },
  "language_info": {
   "codemirror_mode": {
    "name": "ipython",
    "version": 3
   },
   "file_extension": ".py",
   "mimetype": "text/x-python",
   "name": "python",
   "nbconvert_exporter": "python",
   "pygments_lexer": "ipython3",
   "version": "3.10.18"
  }
 },
 "nbformat": 4,
 "nbformat_minor": 5
}
